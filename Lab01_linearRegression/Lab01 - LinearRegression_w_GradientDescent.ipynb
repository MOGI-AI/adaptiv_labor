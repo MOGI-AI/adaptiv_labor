{
 "cells": [
  {
   "attachments": {},
   "cell_type": "markdown",
   "metadata": {},
   "source": [
    "# 1. Labor: Többváltozós lineáris regresszió\n",
    "\n",
    "A gyakorlat során a többváltozós lineáris regresszió problémáját fogjuk megoldani, az általában használt legkissebb négyzetek módszere helyett a gépi tanulásban gyakran előforduló gradiens módszerrel."
   ]
  },
  {
   "attachments": {},
   "cell_type": "markdown",
   "metadata": {},
   "source": [
    "### Ingatlanárak:\n",
    "\n",
    "A feladatban ingatlanok értékének becslésére alkalmazunk többváltozós lineáris regressziót.\n",
    "\n",
    "Tegyük fel, hogy egy bank szeretné a lakáshitelezési folyamatban automatizálni az ingatlanok értékbecslését, így csökkentve az értékbecslők alkalmazásából származó költségeket. Egy lehetséges alternatíva, az ingatlan piaci árának becslése az ingatlan paraméterei alapján, amelyhez szükség van egy modellre, mely leírja a kettő közötti kapcsolatot. Adataink az ingatlan területe ($ft^2$) és a hálószobák száma (db), illetve az értékesítéskor meghatározott ár ($) lesz."
   ]
  },
  {
   "attachments": {},
   "cell_type": "markdown",
   "metadata": {},
   "source": [
    "### Lineáris regresszió\n",
    "\n",
    "Lineáris regresszió esetében a kimeneti/becsült/magyarázott változókat a  bemeneti/magyarázó változók lineáris kombinációjaként modellezzük. Egyváltozós esetben ez az alábbi alakban írható fel:\n",
    "\n",
    "$$ \\hat{y}(x) = w_0 + w_1 x $$\n",
    "\n",
    "ahol <br>\n",
    "- $\\hat{y}$ - a magyarázott $y$ változó becslése <br>\n",
    "- $w$ - súlyok (weights) <br>\n",
    "- $x$ - a bemeneti/magyarázó változó <br>\n",
    "\n",
    "A fenti alakban felírt összefüggés megfeleltethető a síkban leírt egyenes egyenletének ($y=c + m \\cdot x$), ahol $c$ esetünkben $w_0$, az egyenes $Y$ tengellyel vett metszéspontja, $m$ pedig esetünkben $w_1$, az egyenes meredeksége.\n",
    "\n",
    "Többváltozós esetben a magyarázott változónk több bemeneti változó lineáris kombinációjaként áll elő:\n",
    "\n",
    "$$ \\hat{y}(\\mathbf{x}) = w_0 + w_1 x_1 + w_2 x_2 + \\ldots + w_n x_n = w_0 + \\sum_{i=1}^{n} w_i x_i = w_0 + \\mathbf{w} \\cdot \\mathbf{x}; \\qquad \\mathbf{w} = \\left[ w_1, w_2, \\ldots w_n \\right], \\quad \\mathbf{x} = \\left[ x_1, x_2, \\ldots x_n \\right],$$\n",
    "\n",
    "Amennyiben a bemeneti változó vektorunkat kiegészítjük az $x_0 = 1$ elemmel, a fenti kifejezés kompakatabb formában írható:\n",
    "\n",
    "$$ \\hat{y}(\\mathbf{x}) = \\mathbf{w} \\cdot \\mathbf{x}; \\qquad \\mathbf{w} = \\left[ w_0, w_1, w_2, \\ldots w_n \\right], \\quad \\mathbf{x} = \\left[ 1, x_1, x_2, \\ldots x_n \\right],$$\n",
    "\n",
    "A bemeneti vektorok kiegészítése egy egyessel később a neurális hálózatoknál is meg fog jelenni a *bias* változó képében."
   ]
  },
  {
   "attachments": {},
   "cell_type": "markdown",
   "metadata": {},
   "source": [
    "#### Regreszió számítása\n",
    "\n",
    "Az $m$ darab, egyenként $n$ darab bemeneti adatpontot tartalmazó vektort egy $m \\times (n+1)$ mátrixba rendezhetjük az alábbi alakban:\n",
    "\n",
    "$$\n",
    "\\mathbf{X} = \\left[\n",
    "\t\\begin{array}{ccccc}\n",
    " \t\t1 & x_{1,1} & x_{1,2} & \\ldots & x_{1,n}\\\\\n",
    "\t\t1 & x_{2,1} & x_{2,2} & \\ldots & x_{2,n}\\\\\n",
    " \t\t\\vdots & \\vdots & \\vdots & \\ddots & \\vdots\\\\\n",
    "        1 & x_{m,1} & x_{m,2} & \\ldots & x_{m,n}\\\\\n",
    "\t\\end{array}\t\\right]\n",
    "$$\n",
    "\n",
    "A súlyokat tartalmazó $\\textbf{w}$ vektort értelmezhetjük egy $(n+1) \\times 1$-es mátrixként:\n",
    "\n",
    "$$\n",
    "\\mathbf{W} = \\left[\n",
    "\t\\begin{array}{c}\n",
    " \t\tw_0\\\\\n",
    "\t\tw_1\\\\\n",
    " \t\t\\vdots\\\\\n",
    "        w_n\\\\\n",
    "\t\\end{array}\\right]\n",
    "$$\n",
    "\n",
    "Az $m$ darab adatponthoz tartozó magyarázott változó becslését ekkor egy darab mátrixszorzással megkaphatjuk:\n",
    "\n",
    "$$\n",
    "\\mathbf{\\hat{Y}} =\n",
    "\\left[\n",
    "\t\\begin{array}{c}\n",
    " \t\t\\hat{y}_1\\\\\n",
    "\t\t\\hat{y}_2\\\\\n",
    " \t\t\\vdots\\\\\n",
    "        \\hat{y}_m\\\\\n",
    "\t\\end{array}\n",
    "\\right] =\n",
    "\\left[\n",
    "\t\\begin{array}{c}\n",
    " \t\tw_0 + w_1 x_{1,1} + w_2 x_{1,2} + \\ldots + w_n x_{1,n}\\\\\n",
    "\t\tw_0 + w_1 x_{2,1} + w_2 x_{2,2} + \\ldots + w_n x_{2,n}\\\\\n",
    " \t\t\\vdots\\\\\n",
    "        w_0 + w_1 x_{m,1} + w_2 x_{m,2} + \\ldots + w_n x_{m,n}\\\\\n",
    "\t\\end{array}\n",
    "\\right] =\n",
    "\\left[\n",
    "\t\\begin{array}{ccccc}\n",
    " \t\t1 & x_{1,1} & x_{1,2} & \\ldots & x_{1,n}\\\\\n",
    "\t\t1 & x_{2,1} & x_{2,2} & \\ldots & x_{2,n}\\\\\n",
    " \t\t\\vdots & \\vdots & \\vdots & \\ddots & \\vdots\\\\\n",
    "        1 & x_{m,1} & x_{m,2} & \\ldots & x_{m,n}\\\\\n",
    "\t\\end{array}\t\\right]\n",
    "\\cdot\n",
    " \\left[\n",
    "\t\\begin{array}{c}\n",
    " \t\tw_0\\\\\n",
    "\t\tw_1\\\\\n",
    " \t\t\\vdots\\\\\n",
    "        w_n\\\\\n",
    "\t\\end{array}\n",
    "\\right]=\n",
    "\\mathbf{X} \\cdot \\mathbf{W}\n",
    "$$\n",
    "\n",
    "Ezzel az összes becslés számítása egy műveletben elvégezhető, amely számításilag sokkal hatékonyabb mint az egyes becsléseket egyenként kiszámítani."
   ]
  },
  {
   "attachments": {},
   "cell_type": "markdown",
   "metadata": {},
   "source": [
    "### Költségfüggvény\n",
    "\n",
    "A modell jóságának vizsgálatához definiálni kell egy költségfüggvényt, amely számszerűsíti, hogy a modell becslése mennyire írja le jól a magyarázott változó viselkedését. Ennek szokásos formája a reziduumok négyzetösszege:\n",
    "$$ C = \\sum_{j=1}^{m} r_l^2 = \\sum_{l=1}^{m} (\\hat{y}_l - y_l)^2 $$\n",
    "\n",
    "Adott bemenetek és kimenetek esetén a költségfüggvény értéke a meghatározott súlyoktól függ:\n",
    "$$ C(\\mathbf{w}) = \\sum_{l=1}^{m} ( w_0 + w_1 x_{l,1} + w_2 x_{l,2} + ... + w_n x_{l,n} - y_l)^2 $$\n",
    "\n",
    "A fenti mátrixos alakokat felhasználva ez az alábbi művelettel az összes mintára egyszerűen számítható:\n",
    "$$ C(\\mathbf{W}) = \\sum(\\mathbf{\\hat{Y}}-\\mathbf{Y})^2 = (\\mathbf{\\hat{Y}}-\\mathbf{Y})^T \\cdot (\\mathbf{\\hat{Y}}-\\mathbf{Y}) = (\\mathbf{X} \\cdot \\mathbf{W} - \\mathbf{Y})^T \\cdot (\\mathbf{X} \\cdot \\mathbf{W} - \\mathbf{Y})$$"
   ]
  },
  {
   "attachments": {},
   "cell_type": "markdown",
   "metadata": {},
   "source": [
    "#### Legkisebb négyzetek módszere\n",
    "\n",
    "Tegyük fel, hogy a költségfüggvényt egy adott bemeneti adatsor és adott súlyok mellett meghatározzuk, majd egyetlen súlyt ($w_p$) elkezdünk változtatni minden más paraméter fixen tartása mellett. Ekkor az $l$ mintaponthoz tartozóan a reziduum alakja az adott paraméter függvényében az alábbi:\n",
    "\n",
    "$$ r_l = b w_p + c $$\n",
    "\n",
    "Ahol $b = x_{l,p}$, a $w_p$-től független $c$ konstans tag pedig a költésgfüggvény többi eleméből származik. Láthatóan ez egy egyenes egyenlete, amelyet négyzetre emelve egy parabola adódik. A költségfüggvény ilyen tagok összegéből áll, melyek \"eredője\" így szintén parabola lesz, ami egy darab lokális minimummal rendelkezik. A lokális minimum ott található, ahol a költségfüggvény $w_p$ szerinti deriváltja 0.\n",
    "\n",
    "<!---\n",
    "<center><img src=\"img/parabole.svg\" width=\"350\"></center>\n",
    "-->\n",
    "<center><img src=\"https://raw.githubusercontent.com/MOGI-AI/adaptiv_labor/main/Lab01_linearRegression/img/parabole.svg\" width=\"350\"></center>\n",
    "\n",
    "A lineáris regresszió analitikus megoldását a legkisebb négyzetek módszerével számoljuk. Kiszámítjuk a költségfüggvény paraméterenkénti parciális deriváltják, majd ezeket nullával egyenlővé téve a kapott egyenletrendszer megoldásaként megkapjuk $\\mathbf{W}$ azon értékeit, amelyere $C(\\mathbf{W})$ értéke minimális (ez az egyenletrendszer csak akkor lesz lineárisan független, ha legalább $n+1$ darab lineárisan független mintával rendelkezünk). "
   ]
  },
  {
   "attachments": {},
   "cell_type": "markdown",
   "metadata": {},
   "source": [
    "### Gradiens módszer (Gradient Descent)\n",
    "\n",
    "A gépi tanulás területén gyakran előfordul, hogy a modellben szereplő paraméterek (súlyok) száma jóval meghaladja a rendelkezésre álló adatpontok számát. Ekkor a legkisebb négyzetek módszerével kapott egyenletrendszernek nem lesz egyértelmű megoldása, így más, numerikus módon kell a költségfüggvény minimumát megtalálni. Az általában használt Mean Squared Error (MSE) költségfüggvény a korábban látotthoz nagyon hasonló, a reziduumok négyzetösszegétől csak skálázásban tér el, ami\n",
    "- a parciális deriválás során egyszerűbb alakot eredményez,\n",
    "- függetleníti az értéket a felhasznált adatpontok számától:\n",
    "\n",
    "$$C_{MSE} = \\frac{1}{2m}\\sum_{l=1}^{m}(\\hat{y}_l-y_l)^2$$\n",
    "\n",
    "A gradiens módszer egy iteratív módszer, amely minden iteráció során kiszámítja a költségfüggvény aktuális súlyok szerinti gradiensét, azaz az összes súly szerint vett parciális deriváltját. Mivel az eredeti függvény jellege másodrendű, az adott pontban vett parciális deriváltak lineárisak lesznek, értékük pedig a költségfüggvény adott pontban vett meredekségét mutatja meg. E meredekség alapján megállapíthatjuk, hogy a súlyt milyen irányba (pozitív meredekség esetén csökkenteni, negatív meredekség esetén növelni), és mekkora lépésben érdemes módosítani (a minimumnál a meredekség nulla, ahogy távolodunk tőle egyre nő). Nem érdemes rögtön a parciális deriváltakat nullával egyenlővé tenni, mivel egy súly módosítása a többi súlyra vonatkozó parciálsis deriváltat is megváltoztatja, így a már \"beállított\" súlyok \"elromlanak\".\n",
    "\n",
    "<!---\n",
    "<center><img src=\"img/gradient.svg\" width=\"350\"></center>\n",
    "-->\n",
    "<center><img src=\"https://raw.githubusercontent.com/MOGI-AI/adaptiv_labor/main/Lab01_linearRegression/img/gradient.svg\" width=\"350\"></center>\n",
    "\n",
    "A teljes gradiensvektor megadja a költségfüggvény meredekségét az adott pontban az összes súlyra nézve, azaz a súlyok alkotta tér felett értelmezhető felület \"érintőjének\" meredekségét és irányát (a súlyvektor milyen irányú módosítása adja a költségfügvény legnagyobb változását, és mekkora ez a változás a jelenlegi pont közvetlen környezetében). A súlyokat ezen gradiennsvektorral ellentétes irányba, annak nagyságával arányosan érdemes módosítani ahhoz, hogy a feltehető minimum irányába mozduljunk el. A módosítás nagyságát szabályozó paramétert tanulási rátának nevezzük, értéke 0 és 1 közötti, jelölése általában $\\mu$.\n",
    "\n",
    "A fentiek alapján a gradiens módszer esetén a súlyok módosítása a következő alapján történik:\n",
    "\n",
    "$$\\mathbf{W} = \\mathbf{W} - \\mu \\nabla C (\\mathbf{W})$$\n",
    "\n",
    "ahol\n",
    "\n",
    "$$\\nabla C (\\mathbf{W}) = \n",
    "\\left[\n",
    "\t\\begin{array}{c}\n",
    " \t\t\\frac{\\delta C(\\mathbf{W})}{\\delta w_0}\\\\\n",
    "\t\t\\frac{\\delta C(\\mathbf{W})}{\\delta w_1}\\\\\n",
    "        \\frac{\\delta C(\\mathbf{W})}{\\delta w_2}\\\\\n",
    " \t\t\\vdots\\\\\n",
    "        \\frac{\\delta C(\\mathbf{W})}{\\delta w_n}\\\\\n",
    "\t\\end{array}\\right]\n",
    "$$\n",
    "\n",
    "Egy adott parciális derivált számítása az $(f \\circ g)' = (f' \\circ g) \\cdot g'$ deriválási azonosság alapján:\n",
    "\n",
    "$$\n",
    "\\frac{\\delta C(\\mathbf{W})}{\\delta w_i} = \\frac{\\delta \\frac{1}{2m}\\sum_{l=1}^{m} (w_0 + w_1 x_{l,1} + w_2 x_{l,2} + ... + w_n x_{l,n} - y_l)^2}{{\\delta w_i}} =\n",
    "\\frac{1}{m}\\sum_{l=1}^{m} ((w_0 + w_1 x_{l,1} + w_2 x_{l,2} + ... + w_n x_{l,n} - y_l) \\cdot x_{l,i}) $$\n",
    "\n",
    "A már korábban bevezetett mátrixok segítségével a gradiensvektor számítása:\n",
    "$$ \n",
    "\\nabla C (\\mathbf{W}) = \n",
    "\\left[\n",
    "\t\\begin{array}{c}\n",
    " \t\t\\frac{\\delta C(\\mathbf{W})}{\\delta w_0}\\\\\n",
    "\t\t\\frac{\\delta C(\\mathbf{W})}{\\delta w_1}\\\\\n",
    "        \\frac{\\delta C(\\mathbf{W})}{\\delta w_2}\\\\\n",
    " \t\t\\vdots\\\\\n",
    "        \\frac{\\delta C(\\mathbf{W})}{\\delta w_n}\\\\\n",
    "\t\\end{array}\\right] \n",
    "= \\frac{1}{m}\\mathbf{X}^T \\cdot (\\mathbf{X} \\cdot \\mathbf{W} - \\mathbf{Y})\n",
    "$$\n",
    "\n",
    "A gradiens módszer implementálásánál figyelni kell arra, hogy először kiszámításra kerüljön a teljes gradiensvektor, és csak utána kerüljenek frissítésre az egyes súlyok!"
   ]
  },
  {
   "attachments": {},
   "cell_type": "markdown",
   "metadata": {},
   "source": [
    "## 00: Könyvtár importálások\n",
    "\n",
    "Első lépésként importáljuk a feladat megoldása során használt könyvtárakat. Esetünkben ezek a következők lesznek:\n",
    "- Numpy a matematikia műveletek elvégzéséhez\n",
    "- Pandas az adatok beolvasásához és kezeléséhez\n",
    "- MatPlotLib.pyplot az eredményeink ábrázolásához\n",
    "- Plotly Express interaktív vizualizációhoz"
   ]
  },
  {
   "cell_type": "code",
   "execution_count": null,
   "metadata": {},
   "outputs": [],
   "source": [
    "import numpy as np\n",
    "import pandas as pd\n",
    "import matplotlib.pyplot as plt\n",
    "import plotly.graph_objects as go\n",
    "\n",
    "# Sötét téma esetén\n",
    "plt.style.use('dark_background')\n",
    "styleTemplate = 'plotly_dark'\n",
    "\n",
    "# Világos téma esetén\n",
    "#plt.style.use('default')\n",
    "#styleTemplate = 'plotly_white'"
   ]
  },
  {
   "attachments": {},
   "cell_type": "markdown",
   "metadata": {},
   "source": [
    "## 01: Adatbeolvasás\n",
    "Olvassuk be a szükséges adatokat a ''housingData.txt'' fájlból."
   ]
  },
  {
   "cell_type": "code",
   "execution_count": null,
   "metadata": {},
   "outputs": [],
   "source": [
    "df = pd.read_csv('housingData.txt', sep = ',', header=0)    # Olvassuk be az adatokat egy Pandas DataFrame ojektumba\n",
    "df.head(10)                                                 # Irassuk ki az első 10 sort, hogy ellenőrizzük sikerült-e a beolvasás"
   ]
  },
  {
   "attachments": {},
   "cell_type": "markdown",
   "metadata": {},
   "source": [
    "## 02: Adatfelfedezés\n",
    "\n",
    "Új adthalmazzal történő első interrakció során érdemes azt először megvizsgálni, alapvető vizualizációkat ábrázolni, hogy legyen egy elsődleges \"benyomás\" az adatok jellegéről. Ábrázoljuk az adatokat egy X-Y diagrammon."
   ]
  },
  {
   "cell_type": "code",
   "execution_count": null,
   "metadata": {},
   "outputs": [],
   "source": [
    "# Formális vizualizáció MatPlotLib-el\n",
    "fig, (ax0, ax1) = plt.subplots(nrows = 1, ncols = 2, figsize=(10, 5), sharey=True)\n",
    "\n",
    "ax0.scatter(df['Area'],df['Value']/1000)\n",
    "\n",
    "ax0.set_title(\"Ingatlan érétke alapterület szerint\")\n",
    "ax0.set_xlabel(\"Alapterület [$ft^2$]\")\n",
    "ax0.set_ylabel(\"Érték [1000 $]\")\n",
    "\n",
    "ax1.scatter(df['Rooms'],df['Value']/1000)\n",
    "\n",
    "ax1.set_title(\"Ingatlan érétke hálószobák szerint\")\n",
    "ax1.set_xlabel(\"Hálószobák [db]\")\n",
    "\n",
    "plt.show()"
   ]
  },
  {
   "cell_type": "code",
   "execution_count": null,
   "metadata": {},
   "outputs": [],
   "source": [
    "# Interaktív vizualizáció Plotlyval\n",
    "# Note: 3D tengelyek nem támogatják a tengelyfeliratok LaTeX-el való renderelését\n",
    "fig = go.Figure()\n",
    "fig.add_trace(go.Scatter3d(x=df[\"Area\"], y=df[\"Rooms\"], z=df[\"Value\"], mode= \"markers\"))\n",
    "fig.update_layout(\n",
    "    title = \"Ingatlanok értéke az alapterület és szobák föggvényében\",\n",
    "    scene = dict(\n",
    "        xaxis_title = \"Alapterület [sqft]\",\n",
    "        yaxis_title = \"Hálószobák száma [db]\",\n",
    "        zaxis_title = \"Ingatlan értéke [$]\"),\n",
    "    template=styleTemplate,\n",
    "    width=750,\n",
    "    height=500,\n",
    ")\n",
    "\n",
    "fig.show()"
   ]
  },
  {
   "attachments": {},
   "cell_type": "markdown",
   "metadata": {},
   "source": [
    "## 03: Adatok előkészítése\n",
    "\n",
    "A következő lépés az adatok esetleges előfeldolgozása és a modellillesztés elvégzéshez szükséges változók (mátrixok) létrehozása. "
   ]
  },
  {
   "cell_type": "code",
   "execution_count": null,
   "metadata": {},
   "outputs": [],
   "source": [
    "X = df[['Area', 'Rooms']].to_numpy() # Bemeneti változók oszlopainak kiemelése és tömmbé konvertálása\n",
    "Y = df[['Value']].to_numpy() # Kimeneti változó oszlopának kiemelése és tömmbé konvertálása\n",
    "\n",
    "m = X.shape[0]\n",
    "print('X:',X.shape)                                            # adattömbök méretének / adatok számának kiírása\n",
    "print('Y:',Y.shape)\n",
    "print('Adatok száma',m)"
   ]
  },
  {
   "attachments": {},
   "cell_type": "markdown",
   "metadata": {},
   "source": [
    "Jelen esetben egyes változók nagyságrendje elég nagy. Minél nagyobb nagyságrendbe esnek az adatpontjaink, várhatóan annál távolabb esnek a súlyaink kezdeti értékei az optimálistól. Ebben az esetben a számított gradiens által előírt súlyváltoztatás jelentős léptékű lehet, gyakran előfordul hogy konvergálás helyett a modell instabillá vállik, a súlyok a végtelenségig nőnek aboszlút értékben. Ez megelőzhető, ha a paramétereket standardizáljuk, így a 0 körüli tartományra transzformálva azokat. Így az adatok jól kondícionáltak lesznek és szinte garantálható a modell konvergenciája.\n",
    "\n",
    "$$z_{j}^{st} = \\frac{z_j-\\bar{z}}{\\sigma_z}$$\n",
    "\n",
    "ahol $z$ egy tetszőleges változó."
   ]
  },
  {
   "attachments": {},
   "cell_type": "markdown",
   "metadata": {},
   "source": [
    "**Feladat:** Végezze el az X és Y változóinak normalizálását!"
   ]
  },
  {
   "cell_type": "code",
   "execution_count": null,
   "metadata": {},
   "outputs": [],
   "source": [
    "def featureStandardize(Z):\n",
    "######################################################    \n",
    "\n",
    "\n",
    "\n",
    "######################################################\n",
    "    return Z_norm, mean, sigma                            # képlet alapján eredmény visszaadása\n",
    "\n",
    "print('Adatok standardizálása ... \\n')                    \n",
    "X,Xmean,Xsigma = featureStandardize(X)                  # X standardizálása\n",
    "print('Magyarázó változók átlaga:', Xmean)\n",
    "print('Magyarázó változók szórása:', Xsigma, '\\n')\n",
    "Y,Ymean,Ysigma = featureStandardize(Y)                  # Y standardizálása\n",
    "print('Magyarázott változók átlaga:', Ymean)\n",
    "print('Magyarázott változók szórása:', Ysigma)"
   ]
  },
  {
   "attachments": {},
   "cell_type": "markdown",
   "metadata": {},
   "source": [
    "A kiszámolt átlag és szórás értékeket meg kell őriznünk azért, hogy később a modell valós bemeneti értkekkel valós kimeneti árat tudjon becsülni. A könnyebb kezelhetőség érdekében ezt egy dictionary változóba rendeznünk."
   ]
  },
  {
   "cell_type": "code",
   "execution_count": null,
   "metadata": {},
   "outputs": [],
   "source": [
    "scaleFactors = {\"Xmean\" : Xmean, \"Xsigma\" : Xsigma, \"Ymean\" : Ymean, \"Ysigma\" : Ysigma}"
   ]
  },
  {
   "attachments": {},
   "cell_type": "markdown",
   "metadata": {},
   "source": [
    "Ellenőrizzuk a normalizálás sikerességét az új változók átlagának és szórásának kiszámításával!"
   ]
  },
  {
   "cell_type": "code",
   "execution_count": null,
   "metadata": {},
   "outputs": [],
   "source": [
    "print('Standardizált magyarázó változók átlaga:', np.mean(X,0))\n",
    "print('Standardizált magyarázó változók változók szórása:', np.std(X,0), '\\n')\n",
    "print('Standardizált magyarázott változó átlaga:', np.mean(Y,0))\n",
    "print('Standardizált magyarázott változó szórása:', np.std(Y,0))"
   ]
  },
  {
   "attachments": {},
   "cell_type": "markdown",
   "metadata": {},
   "source": [
    "Amennyiben az átlagok értéke közel 0, a szórásoké pedig közel 1, a standardizálás sikeres volt."
   ]
  },
  {
   "attachments": {},
   "cell_type": "markdown",
   "metadata": {},
   "source": [
    "**Feladat:** Egészítse ki az $\\mathbf{X}$ mátrixot a bias változóval, és készítse elő az ennek megfelelő méretű, súlyokat tartalmazó $\\mathbf{W}$ mátrixot 0 kezdeti értékekkel!"
   ]
  },
  {
   "cell_type": "code",
   "execution_count": null,
   "metadata": {},
   "outputs": [],
   "source": [
    "# X bővítése, W inicializálása, \n",
    "######################################################\n",
    "\n",
    "\n",
    "######################################################"
   ]
  },
  {
   "cell_type": "code",
   "execution_count": null,
   "metadata": {},
   "outputs": [],
   "source": [
    "if (X.shape[1] != 3):\n",
    "    print('Az X mátrix mérete nem megfelelő, ellenőrizze!')\n",
    "elif (np.sum(X, 0)[0] != 47):\n",
    "    print('Az X mátrix bias változóval való kiegészítése nem megfelelő, ellenőrizze!')\n",
    "elif (W.shape != (3,1)) or (np.sum(W) != 0):\n",
    "    print('A W mátrix nem megfelelő, ellenőrizze!')\n",
    "else:\n",
    "    print('X:',X.shape)                                            # adattömbök méretének / adatok számának kiírása\n",
    "    print('W:',W)"
   ]
  },
  {
   "attachments": {},
   "cell_type": "markdown",
   "metadata": {},
   "source": [
    "## 04: Modell definiálása\n",
    "\n",
    "Az adatok előkészítése utáni következő lépés a modell és tanítási logika definiálása."
   ]
  },
  {
   "attachments": {},
   "cell_type": "markdown",
   "metadata": {},
   "source": [
    "**Feladat:** Implementálja az MSE költségfüggvényt számító függvényt!"
   ]
  },
  {
   "cell_type": "code",
   "execution_count": null,
   "metadata": {},
   "outputs": [],
   "source": [
    "# Költségfüggvény\n",
    "def costMSE(X,Y,W):\n",
    "#############################################     \n",
    "\n",
    "\n",
    "\n",
    "############################################# \n",
    "   return C"
   ]
  },
  {
   "cell_type": "code",
   "execution_count": null,
   "metadata": {},
   "outputs": [],
   "source": [
    "C1=costMSE(X,Y,np.array([[0],[0],[0]]))\n",
    "print('''Teszt (Cost function):\n",
    "\\tSúlyok: W = [0;0;0]\n",
    "\\tElvárt érték = 0.5\n",
    "\\tSzámolt érték = ''',C1)\n",
    "C2=costMSE(X,Y,np.array([[-1],[2],[-3]]))\n",
    "print('''\\n\\tSúlyok: W = [-1;2;-3]\n",
    "\\tElvárt érték (közelítve) = 3.76\n",
    "\\tSzámolt érték = ''',C2)\n",
    "\n",
    "if C1 == 0.5 and int(C2) == 3:\n",
    "    print(\"\\n A costMSE függvény megfelelő!\")\n",
    "else:\n",
    "    print(\"\\n A costMSE függvény megfelelő, korrekció szükséges!\")"
   ]
  },
  {
   "attachments": {},
   "cell_type": "markdown",
   "metadata": {},
   "source": [
    "**Feladat:** Készítse el többváltozós lineáris regresszió problémáját gradiens módszerrel közelítő algoritmust! Az algoritmus az epoch változóban megadott számú iterációt végezzen, és a súlyok módosítása mellett számolja ki a kezdeti, illetve minden iteráció utáni költségfüggvény értékeket is!"
   ]
  },
  {
   "cell_type": "code",
   "execution_count": null,
   "metadata": {},
   "outputs": [],
   "source": [
    "def gradientDescent(X, Y, W, learning_rate, epochs):\n",
    "    m = Y.size\n",
    "    C_history = np.zeros(epochs+1)\n",
    "    C_history[0] = costMSE(X,Y,W)\n",
    "######################################################\n",
    "\n",
    "\n",
    "\n",
    "\n",
    "######################################################\n",
    "    return W, C_history"
   ]
  },
  {
   "attachments": {},
   "cell_type": "markdown",
   "metadata": {},
   "source": [
    "## 05: Modell tanítás\n",
    "\n",
    "Futtassuk le a gradiens algoritmust és ellenőrizzük a kapott eredményeket!"
   ]
  },
  {
   "cell_type": "code",
   "execution_count": null,
   "metadata": {},
   "outputs": [],
   "source": [
    "print('Gradiens algoritmus futtatása ...')\n",
    "lr = 0.015                                                 # tanulási ráta\n",
    "epochs = 1000                                              # epoch szám\n",
    "W=np.zeros([3,1])                                          # kezdeti súly (0;0;0)\n",
    "W,C_history= gradientDescent(X,Y,W,lr,epochs)              # Gradiens módszer használata\n",
    "print('''A Gradiens algoritmustól elvárt súlyok (nagyjából):\n",
    "[[-8.11069961e-17]\n",
    " [ 8.84142127e-01]\n",
    " [-5.25549586e-02]]\n",
    "''')\n",
    "print('A Gadiens algoritmus által számított súlyok:\\n', W)"
   ]
  },
  {
   "attachments": {},
   "cell_type": "markdown",
   "metadata": {},
   "source": [
    "## 06: Modell értékelése\n",
    "\n",
    "Ellenőrizzük a modell konvergenciáját az költségfüggvény alakulásának ábrázolásával!"
   ]
  },
  {
   "cell_type": "code",
   "execution_count": null,
   "metadata": {},
   "outputs": [],
   "source": [
    "plt.plot(C_history)                                                                 # C_history kirajzolása\n",
    "plt.title(\"Gradiens algoritmus működése az iterációkon keresztül\",pad= 20)\n",
    "plt.xlabel(\"Epochok száma\")\n",
    "plt.ylabel(\"C (MSE)\")\n",
    "plt.show()"
   ]
  },
  {
   "cell_type": "markdown",
   "metadata": {},
   "source": [
    "A szemléltetés érdekében érdemes megvizsgálni a költségfüggvény alakját egy nagyobb intervallumon $w_1$ és $w_2$ függvényében. Ehhez hozzunk létre egy-egy vektort a $w_1$ és $w_2$ súlyoknak ($w_0$ értéke legyen fix a gradiens módszerrel meghatározott értéken), és minden értékpárra számoljuk ki a költségfüggvény értékét. Így kaphatunk egy képet, milyen felületen kerestük az optimumot és hol találtuk azt meg."
   ]
  },
  {
   "cell_type": "code",
   "execution_count": null,
   "metadata": {},
   "outputs": [],
   "source": [
    "# Bementei tartomány definiálása\n",
    "w1 = np.linspace(-2,4,100)\n",
    "w2 = np.linspace(-3,3,100)\n",
    "C = np.zeros((w1.size,w2.size))\n",
    "\n",
    "# Költségfüggvény számítása a bemeneti tartomány felett\n",
    "for i in range(w1.size):\n",
    "    for j in range(w2.size):\n",
    "        t=np.array([W[0,0],w1[i],w2[j]]).reshape(3,1)\n",
    "        C[[i],[j]]= costMSE(X,Y,t)\n",
    "\n",
    "# Ábrázolás Plotly-val\n",
    "fig = go.Figure()\n",
    "\n",
    "# A magyarázott változónkat tartalmazó tömböt transzponálnunk kell,\n",
    "# mivel mátrixok jelőlésénél az első dimenzió (x) a sort jelenti (függőleges irány)\n",
    "# azonban ábrázolásnál az első koordináta (x tengely) a vízszintes irányhoz tatozik.\n",
    "fig.add_trace(go.Surface(x=w1, y=w2, z=C.T))\n",
    "\n",
    "#Plot formázása\n",
    "fig.update_layout(\n",
    "    title = \"Költségfüggvény felület a w1  és w2 súlyok felett\",\n",
    "    scene = dict(\n",
    "        xaxis_title = 'w1',\n",
    "        yaxis_title = \"w2\",\n",
    "        zaxis_title = \"C (MSE)\"),\n",
    "    template=styleTemplate,\n",
    "    width=500,\n",
    "    height=750)\n",
    "\n",
    "# Megjelenítés\n",
    "fig.show()"
   ]
  },
  {
   "cell_type": "code",
   "execution_count": null,
   "metadata": {},
   "outputs": [],
   "source": [
    "# Kontúrplot ábrázolása Plotlyval\n",
    "fig = go.Figure()\n",
    "fig.add_trace(go.Contour(x=w1, y=w2, z=C.T, contours=dict(showlabels = True, labelfont = dict(size = 12, color = 'white')))) \n",
    "fig.add_trace(go.Scatter(x=W[1], y=W[2]))\n",
    "\n",
    "#Plot formázása\n",
    "fig.update_layout(\n",
    "    title = \"Költségfüggvény kontúrok a w1 és w2 súlyok felett\", \n",
    "    xaxis_title = \"w1\",\n",
    "    yaxis_title = \"w2\",\n",
    "    template=styleTemplate,\n",
    "    width=750,\n",
    "    height=750)\n",
    "\n",
    "# Megjelenítés\n",
    "fig.show()"
   ]
  },
  {
   "attachments": {},
   "cell_type": "markdown",
   "metadata": {},
   "source": [
    "## 07: Becslés\n",
    "\n",
    "**Feladat:** Becsülje meg egy 1650 $ft^2$-es, 3 hálószobás ingatlan árát! Ehhez implementáljon egy predict függvényt, amely a bemenetek alapján visszatér az ingatlan becsült árával! Figyeljen, hogy a bementi adatokat a korábban meghatározott paraméterek segítségével standardizálnunk kell, majd a kapott eredményt ugyanígy visszatranszformálni!"
   ]
  },
  {
   "cell_type": "code",
   "execution_count": null,
   "metadata": {},
   "outputs": [],
   "source": [
    "def predict(FEET, BED, W = W, scaleFactors = scaleFactors):\n",
    "#############################################\n",
    "\n",
    "\n",
    "############################################# \n",
    "    return value"
   ]
  },
  {
   "cell_type": "code",
   "execution_count": null,
   "metadata": {},
   "outputs": [],
   "source": [
    "FEET = 1650\n",
    "BED = 3\n",
    "value = predict(FEET, BED)\n",
    "print('Értékbecslés egy 1650 sq-ft / 3 hálószobás ingatlanra: $%.2f' % value[0])\n",
    "print('(a becsült értéknek körülbelül $293000-nak kell lennie)')"
   ]
  },
  {
   "attachments": {},
   "cell_type": "markdown",
   "metadata": {},
   "source": [
    "A becslés általános vizsgálatához ábrázoljuk és vizsgáljuk meg a bemenetei adatainkra illesztett regressziós felületet!"
   ]
  },
  {
   "cell_type": "code",
   "execution_count": null,
   "metadata": {},
   "outputs": [],
   "source": [
    "# A bementek tartományát határozzuk meg az eredeti adataink alapján\n",
    "x = np.linspace(np.min(df[\"Area\"]),np.max(df[\"Area\"]),100)          \n",
    "y = np.linspace(np.min(df[\"Rooms\"]),np.max(df[\"Rooms\"]),100)\n",
    "z = np.zeros((x.size,y.size))\n",
    "\n",
    "# A becsült ingatlanárakat határozzuk meg a már előkészített predict függvénnyel\n",
    "for i in range(x.size):\n",
    "    for j in range(y.size):\n",
    "        z[[i],[j]]= predict(x[i], y[j])\n",
    "\n",
    "# Ábrázolás Plotly-val\n",
    "fig = go.Figure()\n",
    "\n",
    "# A magyarázott változót az előzőhöz hasonlóan transzponálni kell.\n",
    "fig.add_trace(go.Scatter3d(x=df[\"Area\"], y=df[\"Rooms\"], z=df[\"Value\"], mode= \"markers\"))\n",
    "fig.add_trace(go.Surface(x=x, y=y, z=z.T))\n",
    "\n",
    "#Plot formázása\n",
    "fig.update_layout(\n",
    "    title = \"Ingatlanok értéke az alapterület és szobák föggvényében\",\n",
    "    scene = dict(\n",
    "        xaxis_title = \"Alapterület [sqft]\",\n",
    "        yaxis_title = \"Hálószobák száma [db]\",\n",
    "        zaxis_title = \"Ingatlan értéke [$]\"),\n",
    "    template=styleTemplate,\n",
    "    width=750,\n",
    "    height=500,\n",
    ")\n",
    "\n",
    "#Plot megjelenítése\n",
    "fig.show()"
   ]
  },
  {
   "attachments": {},
   "cell_type": "markdown",
   "metadata": {},
   "source": [
    "Érdemes megfigyleni, hogy a hálószobák számához tartozó súly negatív, azaz a modellünk alapján minél kevesebb a hálószobák száma, ugyan csekély mértékben, de annál többet ér az ingatlan. Ez a kapott lineárisan illesztett felületen is megifigyelhető. Érdemes lehet statisztikai teszttel ellnőrizni, hogy a $w_0$ és $w_2$ súlyok szignifikánsan különböznek-e a 0-tól, azaz van-e egy ingatlannak \"alapértéke\" illetve függ-e ténylegesen a hálószobák számától (ezek az ellenőrzések a jelen gyakorlatnak nem részei). Amennyiben egy ilyen teszt eredményeként azt kapjuk, hogy ezek statisztikailag szignifikáns módon nem különböznek 0-tól, érdemes az adott bemeneti változót a modellből eltávolítani, vagy magyarázott változóként kezelni (hálószobák száma függ az alapterülettől, de önmagában a hálószobák száma nem szabja meg az ingat árát)."
   ]
  },
  {
   "attachments": {},
   "cell_type": "markdown",
   "metadata": {},
   "source": [
    "## XX: Megoldás a Scikit-learn könyvtár segítségével\n",
    "\n",
    "A feladatnak egy fokkal szebb megoldása lenne, ha a külön-külön definiált függvények és változók helyett definiálnánk egy osztályt, amelynek saját változói és metódusai tartalmaznák a szükséges adatokat (pl. `scaleFactors` vagy `W`) és metódusokat (pl. `costMSE`, `predict`). A Scikit-learn könyvtár pontosan ilyen felépítéssel implementálja a lineáris regresszió modelljét, a feladat megoldása ennek felhasználásával alább látható."
   ]
  },
  {
   "cell_type": "code",
   "execution_count": null,
   "metadata": {},
   "outputs": [],
   "source": [
    "import pandas as pd\n",
    "from sklearn.linear_model import LinearRegression\n",
    "\n",
    "df = pd.read_csv('housingData.txt', sep = ',', header=0)                # adatok beolvasása\n",
    "X = df[['Area', 'Rooms']].to_numpy()                                    # X rendezése\n",
    "Y = df[['Value']].to_numpy()                                            # Y rendezése\n",
    "\n",
    "lin_reg = LinearRegression()                                            # lineáris regressziós modell osztály példányosítása\n",
    "lin_reg.fit(X,Y)                                                        # modell illesztése X,Y alapján\n",
    "\n",
    "pred = lin_reg.predict([[1650,3]])                                      # predikció 1650 nm és 3 szobás lakásra\n",
    "print('Értékbecslés egy 1650 sq-ft / 3 hálószobás ingatlanra: $%.2f' % pred[0,0])"
   ]
  }
 ],
 "metadata": {
  "kernelspec": {
   "display_name": "Python 3",
   "language": "python",
   "name": "python3"
  },
  "language_info": {
   "codemirror_mode": {
    "name": "ipython",
    "version": 3
   },
   "file_extension": ".py",
   "mimetype": "text/x-python",
   "name": "python",
   "nbconvert_exporter": "python",
   "pygments_lexer": "ipython3",
   "version": "3.11.1"
  },
  "orig_nbformat": 4
 },
 "nbformat": 4,
 "nbformat_minor": 2
}
