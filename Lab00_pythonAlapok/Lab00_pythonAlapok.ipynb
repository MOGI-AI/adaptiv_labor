{
  "cells": [
    {
      "cell_type": "markdown",
      "metadata": {
        "id": "T7fCU3XXKD_v"
      },
      "source": [
        "# Bevezető"
      ]
    },
    {
      "cell_type": "markdown",
      "metadata": {
        "id": "jN0ntXRZKD_w"
      },
      "source": [
        "## Miért Python?\n",
        "\n",
        "A phyton egy script jellegű, magas szintű programnyelv. Alapvetően programok, algoritmusok futtatására koncentrál, melynek eredményét konzolon, generált fájlok formájában, vagy más programokban, hardveren végrehajtott parancsok formájában kapjuk meg. Bár nem megoldhatatlan, nem szokás grafikus felhasználói felülettel rendelkező python programot készíteni. A python fő elve az **olvashatóság**, **könnyű használhatóság** és **gyors kódfejlesztés**, nem az feltétlenül az optimalizáltság és a kód gyorsasága. A python előnyei közé tartoznak:\n",
        "\n",
        "- a python a gépi tanulás (Machine Learning), és azon belül a mély neurális hálós tanuláshoz (Deep Learning, Deep Neural Netwroks) használt fő programozási nyelv\n",
        "- magas absztrakciós szintű nyelv, könnyen olvasható, újrahasználható\n",
        "- **dinamikusan tipusdefiniált**, azaz nem kell a változókat előre deklarálni és azok típusát megadni, ez automatikusan történik\n",
        "- a python kód rövid (ekvivalens C++ vagy Java kódhoz képest 1/3 - 1/5 olyan hosszú), így gyorsan fejelszthető, debugolható\n",
        "- szinten minden lehetséges programozási feladatra található harmadik féltől származó könyvtár amely tartalmazza az adott területeken használt algoritmusokat, kész megodlásokat (pl. matematikai műveletek - numpy; adatok kezelélse, redszerezése - pandas; ábrázolás, adatvizualizáció - matplotlib, seaborn, plotly; statisztika, tudományos számítások - scipy; gépi tanulás - sklearn, deep learning, neurális hálók - tensorflow, keras, pytorsch)\n",
        "- a python kód más nyelveken íródott programokban (C, C++, LabView) meghívható, futtatható, vagy az adott nyelvre egyszerűen konvertálható (pl. pythonban tanított sklearn modell konvertálása arduino-n futtatható C nyelvű modellé micromlgen-el)"
      ]
    },
    {
      "cell_type": "markdown",
      "metadata": {},
      "source": [
        "## Python kód futtatása\n",
        "\n",
        "A Python programok/scriptek futtatására három alapvető mód áll rendelkezésünkre:\n",
        "- Interaktív python parapncssor indítása és parancsok futtatása egyesével parancssorban\n",
        "- `.py` kiterjesztésű programok futtatása\n",
        "    - parancssorból\n",
        "    - dedikált fejelsztőkörnyezetből (Integrated Development Environment - IDE; pl. VS Code, PyCharm, Spyder, Sublime Text)\n",
        "- Jupyter notebook `.ipynb` formátum használata (Jupyter szerver, VS Code, Google Colab)\n",
        "\n",
        "A laborok során a notebook formátumot fogjuk alkalmazni. Ezek futtatásának legeggyzerűbb módja a [Google Colab](https://colab.research.google.com/) felület használata. Ehhez csupán böngészőre, internetkapcsolatra és egy google felhasználóra van szükség, telepíteni semmit nem szükséges. Az internetet nem elérő laborgépek esetében VS Code használható."
      ]
    },
    {
      "cell_type": "markdown",
      "metadata": {},
      "source": [
        "# Lab00 - Python Alapok\n",
        "\n",
        "Ez a labor a továbbiakban a Python (az Adaptív Rendszerek Modellezése tárgy keretében történő) használatának alapjait mutatja be, a teljesség igénye nélkül."
      ]
    },
    {
      "cell_type": "markdown",
      "metadata": {
        "id": "rPiaauY6KD_2"
      },
      "source": [
        "## 1. Basic Syntax"
      ]
    },
    {
      "cell_type": "markdown",
      "metadata": {
        "id": "ARmMmVIbKD_2"
      },
      "source": [
        "A Python nem használ lezáró karaktert a blokkok végén (pl. mint C#-ban a sorvégi `;`), annak szerepét az új sor tölti be. Egy soros komment a `#` karakter használatával, több soros `\"\"\" \"\"\"` között írva. Értékadás az `=` operátorral, egyenlőség teszt az `==` operátorral lehetséges. Inkrementálció és dekrementáció megvalósítható a `+=` és `-=` operátorokkal."
      ]
    },
    {
      "cell_type": "code",
      "execution_count": null,
      "metadata": {
        "id": "JxoFaJNIKD_2"
      },
      "outputs": [],
      "source": [
        "demoVar = 3\n",
        "demoVar"
      ]
    },
    {
      "cell_type": "code",
      "execution_count": null,
      "metadata": {},
      "outputs": [],
      "source": [
        "demoVar += 2 # demoVar = demoVar + 2\n",
        "demoVar"
      ]
    },
    {
      "cell_type": "code",
      "execution_count": null,
      "metadata": {
        "id": "k7AAGYotKD_3"
      },
      "outputs": [],
      "source": [
        "demoVar -= 1 # demoVar = demoVar - 1\n",
        "demoVar"
      ]
    },
    {
      "cell_type": "code",
      "execution_count": 7,
      "metadata": {
        "id": "CJNT9U8lKD_3"
      },
      "outputs": [],
      "source": [
        "\"\"\"Ez egy többsoros komment\n",
        "A következő sorok két stringet adnak össze.\"\"\"\n",
        "demoString = \"Hello\"\n",
        "demoString += \" world.\""
      ]
    },
    {
      "cell_type": "markdown",
      "metadata": {},
      "source": [
        "A kód cellák az utolsó soruk kimenetét, amennyiben van ilyen és az nincs felhasználva, megejelenítik mint kimenet. Ha nem utolsó sorban lévő értéket, vagy több dolgot szeretnénk kimenetként megjeleníteni, akkor a `print()` függvényt kell alkalmazni. A `print()` segítségével kiíratott objektum formázása eltérő lehet, mint az utolsó sorban található objektum megjelenítése."
      ]
    },
    {
      "cell_type": "code",
      "execution_count": null,
      "metadata": {},
      "outputs": [],
      "source": [
        "# A kód cellák az utolsó soruk kimenetét megejelenítik, amennyiben van kimenet és nincs felhasználva.\n",
        "print(demoString)\n",
        "demoString"
      ]
    },
    {
      "cell_type": "code",
      "execution_count": null,
      "metadata": {
        "id": "0pjI_QB8KD_4"
      },
      "outputs": [],
      "source": [
        "# A következő kód egy sorban (!) cseréli ki két változó értékét.\n",
        "# Ez nem sérti meg az erős típusdefiniáltságot, mivel nem értéket\n",
        "# rendelünk hozzá, hanem új objektumokat rendelünk a régi nevekhez.\n",
        "demoVar, demoString = demoString, demoVar"
      ]
    },
    {
      "cell_type": "code",
      "execution_count": null,
      "metadata": {
        "id": "kLeBWF9dKD_4"
      },
      "outputs": [],
      "source": [
        "print(\"demoVar: \" + demoVar)\n",
        "print(\"demoString:\" , demoString)"
      ]
    },
    {
      "cell_type": "markdown",
      "metadata": {
        "id": "-Yzb1jL4KD_x"
      },
      "source": [
        "## 2. Help "
      ]
    },
    {
      "cell_type": "markdown",
      "metadata": {
        "id": "1mqavcWbWEoq"
      },
      "source": [
        "A `type()` függvény megmutatja az adott objektum típusát:"
      ]
    },
    {
      "cell_type": "code",
      "execution_count": null,
      "metadata": {
        "id": "j_nEgukgWEDS"
      },
      "outputs": [],
      "source": [
        "type(demoVar)"
      ]
    },
    {
      "cell_type": "markdown",
      "metadata": {
        "id": "JOwSunMoKD_x"
      },
      "source": [
        "Egy adott objektum típusának teljes dokumentációját a `help()` függvénnyel érhetjük el:"
      ]
    },
    {
      "cell_type": "code",
      "execution_count": null,
      "metadata": {
        "id": "neq8AlHjKD_z"
      },
      "outputs": [],
      "source": [
        "help(demoVar)\n",
        "print('---')\n",
        "help(demoString)"
      ]
    },
    {
      "cell_type": "markdown",
      "metadata": {},
      "source": [
        "A `__doc__` függvény meghívásával az adott dolog dukumentációs stringjét hívhatjuk elő (érdemes a `print()` fügvénnyel használni, ha szépen formázott kimenetet szeretnénk)."
      ]
    },
    {
      "cell_type": "code",
      "execution_count": null,
      "metadata": {},
      "outputs": [],
      "source": [
        "print(int.__doc__)\n",
        "print('---')\n",
        "print(help.__doc__)"
      ]
    },
    {
      "cell_type": "markdown",
      "metadata": {
        "id": "8Zl0akbRKD_5"
      },
      "source": [
        "## 3. Tömb jellegű változók"
      ]
    },
    {
      "cell_type": "markdown",
      "metadata": {
        "id": "ysyv7QUzKD_5"
      },
      "source": [
        "A Pythonban elérhető tömbszerű adattípusok a **lista** (`list`), `tuple` és a **szótár** (`dictionary`). \n",
        "- A **lista** a legegyszerűbb típus, adott elemeket adott sorrendben (láncolt lista) tartalmaz, az elemekre a listában betöltött helyével lehet hivatkozni.\n",
        "- A **szótár** kulcs-érték párokat tartalmaz. \n",
        "- A `tuple` olyan Python objektumok listája, mely un. *inmutable*, azaz nem változtatható a deklarációját követően. Az legtöbb listaművelet végrehajtható rajtuk, a műveletek hatékonyabbak rajta, mint a listán.\n",
        "\n",
        "A Phyton 'tömbök' tartalmazhatnak bármilyen adattípust, így egyazon tömb tartalmazhat akár int-et, string-et, listát, szótárat stb.\n",
        "Az indexelés minden típusnál 0-tól indul. Negatív számokkal hátulról indexelhetők (-1 az utolsó elemet jelöli, -2 az utolsó előttit, stb.)."
      ]
    },
    {
      "cell_type": "markdown",
      "metadata": {
        "id": "05YBSKD9U0ln"
      },
      "source": [
        "### 3.1 Lista"
      ]
    },
    {
      "cell_type": "code",
      "execution_count": 17,
      "metadata": {
        "id": "ToDQ0sAFKD_6"
      },
      "outputs": [],
      "source": [
        "# ennek a listának első eleme egy integer, második eleme egy két elemű lista, harmadik eleme pedig egy 2 elemű tuple.\n",
        "sampleList = [1, [\"another\", \"list\"], (\"a\", \"tuple\")]"
      ]
    },
    {
      "cell_type": "code",
      "execution_count": 18,
      "metadata": {
        "id": "0YfFZWZDKD_6"
      },
      "outputs": [],
      "source": [
        "# a demoList egy olyan lista mely tartalmaz strig, integer és float értéket is\n",
        "demoList = [\"List item 1\", 2, 3.14]"
      ]
    },
    {
      "cell_type": "code",
      "execution_count": null,
      "metadata": {},
      "outputs": [],
      "source": [
        "# a lista hossza (elemszáma)\n",
        "len(demoList)"
      ]
    },
    {
      "cell_type": "code",
      "execution_count": null,
      "metadata": {
        "id": "7Vm93jsmKD_6"
      },
      "outputs": [],
      "source": [
        "# lista első (azaz 0.) elemének kiíratása\n",
        "demoList[0]"
      ]
    },
    {
      "cell_type": "code",
      "execution_count": null,
      "metadata": {
        "id": "WffTH6kWKD_7"
      },
      "outputs": [],
      "source": [
        "# Listaelem megváltoztatása\n",
        "demoList[0] = \"List item 1 again\"\n",
        "demoList[0]"
      ]
    },
    {
      "cell_type": "code",
      "execution_count": null,
      "metadata": {
        "id": "iY7pS9aJKD_7"
      },
      "outputs": [],
      "source": [
        "# Lista utolsó eleme\n",
        "demoList[-1]"
      ]
    },
    {
      "cell_type": "code",
      "execution_count": null,
      "metadata": {
        "id": "EtxUuMDMKD_-"
      },
      "outputs": [],
      "source": [
        "print(demoList) #a lista kiíratása =/= lista egyes elemeinek a kiíráatása"
      ]
    },
    {
      "cell_type": "markdown",
      "metadata": {
        "id": "ZOAb9CyqVAKJ"
      },
      "source": [
        "### 3.2 Dictionary"
      ]
    },
    {
      "cell_type": "code",
      "execution_count": 24,
      "metadata": {
        "id": "7u3zFt0nKD_8"
      },
      "outputs": [],
      "source": [
        "demoDict = {\"Key 1\": \"Value 1\", 2: 3, \"pi\": 3.14, 2.72 : \"e\"}"
      ]
    },
    {
      "cell_type": "code",
      "execution_count": null,
      "metadata": {
        "id": "4jsYsPo_KD_8"
      },
      "outputs": [],
      "source": [
        "demoDict[\"pi\"]"
      ]
    },
    {
      "cell_type": "code",
      "execution_count": null,
      "metadata": {
        "id": "xHEKpBHTUR0O"
      },
      "outputs": [],
      "source": [
        "demoDict[2]"
      ]
    },
    {
      "cell_type": "code",
      "execution_count": null,
      "metadata": {
        "id": "vWxUn4JFUrqC"
      },
      "outputs": [],
      "source": [
        "demoDict[2.72]"
      ]
    },
    {
      "cell_type": "code",
      "execution_count": 28,
      "metadata": {
        "id": "3ib2516eKD_8"
      },
      "outputs": [],
      "source": [
        "# Szótár \"pi\" kulcsú elemének értékének megváltoztatása\n",
        "demoDict[\"pi\"] = 3.15"
      ]
    },
    {
      "cell_type": "code",
      "execution_count": null,
      "metadata": {
        "id": "-MXxQU4LVxFW"
      },
      "outputs": [],
      "source": [
        "print(demoDict)"
      ]
    },
    {
      "cell_type": "markdown",
      "metadata": {
        "id": "yU2BfHJEVEUT"
      },
      "source": [
        "### 3.3 Tuple"
      ]
    },
    {
      "cell_type": "code",
      "execution_count": 31,
      "metadata": {
        "id": "z-qGZpFpKD_9"
      },
      "outputs": [],
      "source": [
        "# Tuple létrehozása\n",
        "myTuple = (1, 2, 3) # A zárójel valójában opcionális"
      ]
    },
    {
      "cell_type": "code",
      "execution_count": null,
      "metadata": {
        "id": "byd_4vd5KD_9"
      },
      "outputs": [],
      "source": [
        "# Tuple elemek hozzáférése\n",
        "myTuple[1]"
      ]
    },
    {
      "cell_type": "code",
      "execution_count": null,
      "metadata": {
        "id": "yLAxqDVYV6W2"
      },
      "outputs": [],
      "source": [
        "type(myTuple)"
      ]
    },
    {
      "cell_type": "markdown",
      "metadata": {
        "id": "myFGwzgKWnuB"
      },
      "source": [
        "### 3.4 Slicing"
      ]
    },
    {
      "cell_type": "markdown",
      "metadata": {
        "id": "0NAn665iKD_-"
      },
      "source": [
        "A tömbök bizonyos elemeihez (szeletéhez) való hozzáféréshez egy intervallumot is megadhatuk a `:` karakterrel elválasztva (a string is egy 'tömb'). Üresen hagyva a kezdő sorszámot automatikusan a tömb legelejéről indul a számozás, az intervallum végét üresen hagyva pedig automatikusan az utolsó elemig nézzük a tömböt. A slicing az elején zárt (a megadott indexnek megfelelő elemet megkapjuk) a végén nyitott intervallom (a megadott sorszám már nem lesz benne a szeletben). A negatív index használata itt is működik (-1 az utolsó elem, -2 az utolsó előtti, stb.)."
      ]
    },
    {
      "cell_type": "code",
      "execution_count": null,
      "metadata": {
        "id": "cO8PXfuLKD_-"
      },
      "outputs": [],
      "source": [
        "print(demoList[:])"
      ]
    },
    {
      "cell_type": "code",
      "execution_count": null,
      "metadata": {
        "id": "Z_EC9GX3KD__"
      },
      "outputs": [],
      "source": [
        "print(demoList[1:])"
      ]
    },
    {
      "cell_type": "code",
      "execution_count": null,
      "metadata": {
        "id": "l9m4sLTsKD__"
      },
      "outputs": [],
      "source": [
        "print(demoList[:2])"
      ]
    },
    {
      "cell_type": "code",
      "execution_count": null,
      "metadata": {
        "id": "BlmRBM6dKD__"
      },
      "outputs": [],
      "source": [
        "print(demoList[0:2])"
      ]
    },
    {
      "cell_type": "code",
      "execution_count": null,
      "metadata": {
        "id": "Nc5zgMqmKD__"
      },
      "outputs": [],
      "source": [
        "print(demoList[-3:-1])"
      ]
    },
    {
      "cell_type": "markdown",
      "metadata": {
        "id": "WMGLk0QvKEAA"
      },
      "source": [
        "Az intervallumot kiegészíthetjük harmadik elemként egy lépésközzel, amellyel minden n. elemet kapjuk vissza (ez első index által megadott elemtől kezdve)."
      ]
    },
    {
      "cell_type": "code",
      "execution_count": null,
      "metadata": {
        "id": "08I022-oKEAA"
      },
      "outputs": [],
      "source": [
        "print(demoList[::2])"
      ]
    },
    {
      "cell_type": "markdown",
      "metadata": {},
      "source": [
        "A lépésköz segítségével meg is fordíthatjuk a lista elemeinek sorendjét."
      ]
    },
    {
      "cell_type": "code",
      "execution_count": null,
      "metadata": {},
      "outputs": [],
      "source": [
        "print(demoList[::-1])"
      ]
    },
    {
      "cell_type": "markdown",
      "metadata": {
        "id": "erKksNcdKEAA"
      },
      "source": [
        "## 4. Stringek"
      ]
    },
    {
      "cell_type": "markdown",
      "metadata": {
        "id": "NhP2zouYKEAA"
      },
      "source": [
        "Stringek kiíratásakor/definiálásakor használhatunk `'` vagy `\"` idézőjelet. A két különbőző idézőjel egymásba is ágyazható kiíratáskor. "
      ]
    },
    {
      "cell_type": "code",
      "execution_count": null,
      "metadata": {
        "id": "eUs5lcvTKEAB"
      },
      "outputs": [],
      "source": [
        "print(\"He said 'Hello'\")"
      ]
    },
    {
      "cell_type": "code",
      "execution_count": null,
      "metadata": {
        "id": "6SuI63fCKEAB"
      },
      "outputs": [],
      "source": [
        "print('He also said \"How are you?\"')"
      ]
    },
    {
      "cell_type": "markdown",
      "metadata": {
        "id": "Secq4L8tKEAB"
      },
      "source": [
        "Stringek kitöltéséhez használható a % operátor és egy tuple (lista nem!). Minden %s egy tuple elemmel lesz helyettesítve balról jobbra haladva (dictionary szintén használható, lista azonban nem). "
      ]
    },
    {
      "cell_type": "code",
      "execution_count": null,
      "metadata": {
        "id": "HH7_k1MTY_Va"
      },
      "outputs": [],
      "source": [
        "# Formázás tuple segítségével\n",
        "print(\"This %s a touple %s.\" % (\"is\", \"test\"))"
      ]
    },
    {
      "cell_type": "code",
      "execution_count": null,
      "metadata": {},
      "outputs": [],
      "source": [
        "# Formázás lista segítségével hibát dob\n",
        "print(\"This %s a list %s.\" % [\"is\", \"test\"])"
      ]
    },
    {
      "cell_type": "code",
      "execution_count": null,
      "metadata": {
        "id": "xoY7eovkKEAB"
      },
      "outputs": [],
      "source": [
        "# Formázás dictionary segítségével: minden elemhez meg kell adni hazsnálni kívánt elem kulcsát!\n",
        "# Vigyázat: Figyeljünk az s végződésre \"%(key)s\".\n",
        "print(\"This %(verb)s a %(noun)s.\" % {\"noun\": \"test\", \"verb\": \"is\"})"
      ]
    },
    {
      "cell_type": "markdown",
      "metadata": {},
      "source": [
        "A behelyettesítő elmeket dinamikusan, változóval is megadhatók."
      ]
    },
    {
      "cell_type": "code",
      "execution_count": null,
      "metadata": {
        "id": "lsg0n1CoZseP"
      },
      "outputs": [],
      "source": [
        "outputDict = {\"noun\": \"test\", \"verb\": \"is\"}\n",
        "print(\"This %(verb)s a %(noun)s.\" % outputDict)"
      ]
    },
    {
      "cell_type": "markdown",
      "metadata": {},
      "source": [
        "A % operátor után használt karakter a beillesztendő elem típusát/formázását írja elő:\n",
        "- s -> string\n",
        "- i -> Integer\n",
        "- f -> float\n",
        "- .nf -> float n darab tizedesjegyre kiírva"
      ]
    },
    {
      "cell_type": "code",
      "execution_count": null,
      "metadata": {},
      "outputs": [],
      "source": [
        "print(\"This %(animal)s a %(age)s years old.\" % {\"animal\": \"dog\", \"age\": 5.45})\n",
        "print(\"This %(animal)s a %(age)i years old.\" % {\"animal\": \"dog\", \"age\": 5.45})\n",
        "print(\"This %(animal)s a %(age)f years old.\" % {\"animal\": \"dog\", \"age\": 5.45})\n",
        "print(\"This %(animal)s a %(age).3f years old.\" % {\"animal\": \"dog\", \"age\": 5.45})"
      ]
    },
    {
      "cell_type": "markdown",
      "metadata": {
        "id": "waZJWEO9ZeLB"
      },
      "source": [
        "String formázása a `.format()` függvény használatával:"
      ]
    },
    {
      "cell_type": "code",
      "execution_count": null,
      "metadata": {
        "id": "muluFQ3HKEAC"
      },
      "outputs": [],
      "source": [
        "name = \"Groot\"\n",
        "print(\"Hello, my {} is {}!\".format(\"name\", name))"
      ]
    },
    {
      "cell_type": "markdown",
      "metadata": {},
      "source": [
        "Indexelés:"
      ]
    },
    {
      "cell_type": "code",
      "execution_count": null,
      "metadata": {
        "id": "a_JDLlRBaXsH"
      },
      "outputs": [],
      "source": [
        "name = \"Groot\"\n",
        "print(\"Hello, my {1} is {0}!\".format(\"name\", name))"
      ]
    },
    {
      "cell_type": "markdown",
      "metadata": {},
      "source": [
        "Számok formázása a % operátorhoz hasonlóan:"
      ]
    },
    {
      "cell_type": "code",
      "execution_count": null,
      "metadata": {},
      "outputs": [],
      "source": [
        "name = \"Groot\"\n",
        "print(\"{0} is {1:.2f} years young.\".format(name, 0.52367))"
      ]
    },
    {
      "cell_type": "markdown",
      "metadata": {},
      "source": [
        "`.format()` függvény inline használata:"
      ]
    },
    {
      "cell_type": "code",
      "execution_count": null,
      "metadata": {
        "id": "cciYtBI3KEAC"
      },
      "outputs": [],
      "source": [
        "print(f\"I am {name}!\")"
      ]
    },
    {
      "cell_type": "code",
      "execution_count": null,
      "metadata": {
        "id": "Psa4mMTBaezG"
      },
      "outputs": [],
      "source": [
        "print(f\"I am {outputDict['noun']}!\")"
      ]
    },
    {
      "cell_type": "markdown",
      "metadata": {
        "id": "nuwRzVbXKEAC"
      },
      "source": [
        "## 5. Ciklusok, elágazások"
      ]
    },
    {
      "cell_type": "markdown",
      "metadata": {
        "id": "5dx4QIKJKEAC"
      },
      "source": [
        "Pythonban is megtalálhatók a `for` és `while` ciklusok és az `if` elágazás, azonban nincs `switch`. A `for` ciklus bármilyen iterálható objektumon futtatható, a szokásos n-től m-ig futtatáshoz a `range(<szám>)` kifejezés alkalmazható."
      ]
    },
    {
      "cell_type": "code",
      "execution_count": null,
      "metadata": {
        "id": "FRg20FIGKEAD"
      },
      "outputs": [],
      "source": [
        "print(range(10)) # magában kiíratva nem tűnik hasznosnak, de..."
      ]
    },
    {
      "cell_type": "code",
      "execution_count": null,
      "metadata": {
        "id": "KH6eq4WYKEAD"
      },
      "outputs": [],
      "source": [
        "rangeList = list(range(3, 10, 2))\n",
        "print(rangeList)"
      ]
    },
    {
      "cell_type": "markdown",
      "metadata": {
        "id": "hizOhCNxa3U3"
      },
      "source": [
        "A Phython nem használ blokk elválasztó karaktert, mindent behúzásokkal tagol. Minden block első sora, ami behúzást vár, `:`-ra végződik. Azonos behúzással rendelkező sorok azonos hierarchia szintbe tartoznak."
      ]
    },
    {
      "cell_type": "code",
      "execution_count": null,
      "metadata": {
        "id": "Er1x5X7hKEAD"
      },
      "outputs": [],
      "source": [
        "for number in range(10):\n",
        "  # Ellenőrizzük, hogy az aktuális szám\n",
        "  # része-e a tuple-nek.\n",
        "\n",
        "  if number in (3, 4, 7, 9):\n",
        "    print(number, 'break')\n",
        "    break \n",
        "    # A 'break' parancs kilép az őt legközelebbről magában ölelő ciklusból\n",
        "\n",
        "  elif number in range(1, 5, 2): # ugyan az, mint 'in (1, 3)'\n",
        "    print(number, 'continue')\n",
        "    continue \n",
        "    # A 'continue' parancs az őt legközelebbről magában ölelő ciklus következő iterációjára\n",
        "    # ugrik, a nélkül, hogy a jelenlegi ciklus hátrelevő részét végrehajtaná\n",
        "\n",
        "  # Az else ág opcionális, akkor fut le, ha az előtte lévő\n",
        "  # kondícionális tesztek egyike sem hajtódik végre.\n",
        "  else:\n",
        "    pass\n",
        "    # Nem csinál semmit, placeholderként használható\n",
        "  \n",
        "  print(number, 'cycle end')\n",
        "\n",
        "else:\n",
        "  # Az ciklushoz kapcsolódó 'else' ág akkor fut le, ha a ciklus végigfutott\n",
        "  # (nem 'break' paranccsal lépett ki)\n",
        "  print('A ciklus végigfutott.')"
      ]
    },
    {
      "cell_type": "markdown",
      "metadata": {
        "id": "pCnYha2Jbcry"
      },
      "source": [
        "For ciklust bármilyen iterálható objektumra meghívhatunk:"
      ]
    },
    {
      "cell_type": "code",
      "execution_count": null,
      "metadata": {
        "id": "fhZ3Nzx1bFNK"
      },
      "outputs": [],
      "source": [
        "forList = [\"This \", \"is \", \"great!\"]\n",
        "for word in forList:\n",
        "  print(word)"
      ]
    },
    {
      "cell_type": "code",
      "execution_count": null,
      "metadata": {
        "id": "RW8wqnYybkUL"
      },
      "outputs": [],
      "source": [
        "forString = \"This is awesome!\"\n",
        "for char in forString:\n",
        "  print(char)"
      ]
    },
    {
      "cell_type": "markdown",
      "metadata": {
        "id": "P2uf9r6OKEAE"
      },
      "source": [
        "Ha a cella végrehajtása egy végtelen ciklusba kerül, akkor a cella bal oldalán található '▣' gombbal, vagy a Notebook menüsávjának \"interrupt kernel\" gombjával állítható le (az utóbbiesetén minden, a program futása során létrejöbb és memóriában tárolt adat/változó/definiált függvény elveszik)."
      ]
    },
    {
      "cell_type": "code",
      "execution_count": null,
      "metadata": {
        "id": "KZs05L5FKEAE"
      },
      "outputs": [],
      "source": [
        "while True: # végtelen ciklus\n",
        "    print(\"We are trapped in an infinite loop!\")"
      ]
    },
    {
      "cell_type": "markdown",
      "metadata": {},
      "source": [
        "A `for` ciklus egy különleges formája az un. **list comprehension**. Ennek segítségével olyan `for` ciklus hozható létre egyszerűsített szintaktikával, amely egy listát generál kimenetként."
      ]
    },
    {
      "cell_type": "code",
      "execution_count": null,
      "metadata": {},
      "outputs": [],
      "source": [
        "listComp = [x+3 for x in range(5)]\n",
        "print(listComp)"
      ]
    },
    {
      "cell_type": "markdown",
      "metadata": {},
      "source": [
        "A list comprehension `if` elágazást is tartalmazhat,"
      ]
    },
    {
      "cell_type": "code",
      "execution_count": null,
      "metadata": {},
      "outputs": [],
      "source": [
        "# 10-nél kisebb páratlan számok négyzetei\n",
        "oddSquares = [x**2 for x in range(10) if x % 2 == 1]\n",
        "print(oddSquares)"
      ]
    },
    {
      "cell_type": "markdown",
      "metadata": {},
      "source": [
        "vagy akár egymásba ágyazott ciklusokat:"
      ]
    },
    {
      "cell_type": "code",
      "execution_count": null,
      "metadata": {},
      "outputs": [],
      "source": [
        "distFromOrigin = [(x**2+y**2)**.5 for x in range(10) for y in range(10)]\n",
        "print(distFromOrigin)"
      ]
    },
    {
      "cell_type": "markdown",
      "metadata": {
        "id": "WSGKGtd9KEAF"
      },
      "source": [
        "## 6. Függvények"
      ]
    },
    {
      "cell_type": "markdown",
      "metadata": {
        "id": "rdcb6OGAKEAF"
      },
      "source": [
        "Függvények a `def` kulcsszóval deklarálhatók. A deklarációban adhatók meg az argumentumok is, ahol alapértelmezett értékeket is beállítható az egyes szükséges változóknak. A függvények visszatérési értéke lehet tuple is, így könnyedén visszaadható több változó is."
      ]
    },
    {
      "cell_type": "code",
      "execution_count": 86,
      "metadata": {
        "id": "lLr615KIKEAF"
      },
      "outputs": [],
      "source": [
        "# Az an_int és a_string megadása opcionális, mivel rendelkeznek default értékkel,\n",
        "# ha valamelyiket nem adnánk meg a fügvénynek meghíváskor.\n",
        "def passing_example(a_list, an_int = 2, a_string = \"A default string\"):\n",
        "    # TODO implement input validation!\n",
        "    a_list.append(\"A new item\")\n",
        "    an_int = 4\n",
        "    return a_list, an_int, a_string"
      ]
    },
    {
      "cell_type": "code",
      "execution_count": null,
      "metadata": {
        "id": "ZOqiOqCKKEAG"
      },
      "outputs": [],
      "source": [
        "my_list = [1, 2, 3]\n",
        "my_int = 10\n",
        "print(passing_example(my_list, an_int = my_int))"
      ]
    },
    {
      "cell_type": "code",
      "execution_count": null,
      "metadata": {
        "id": "sCgGQqGYKEAG"
      },
      "outputs": [],
      "source": [
        "my_list"
      ]
    },
    {
      "cell_type": "code",
      "execution_count": null,
      "metadata": {
        "id": "WohBamujKEAG"
      },
      "outputs": [],
      "source": [
        "my_int"
      ]
    },
    {
      "cell_type": "markdown",
      "metadata": {
        "id": "MIj9dgjQdO_h"
      },
      "source": [
        "A lambda függvény egy ad hoc függvény, ami egy utasítást tömörít."
      ]
    },
    {
      "cell_type": "code",
      "execution_count": null,
      "metadata": {
        "id": "DILKwm6tKEAF",
        "scrolled": true
      },
      "outputs": [],
      "source": [
        "# Ugyan az mint a def funcvar(x): return x + 1\n",
        "funcvar = lambda x: x + 1\n",
        "print(funcvar(1))"
      ]
    },
    {
      "cell_type": "markdown",
      "metadata": {
        "id": "34FXKc-NKEAH"
      },
      "source": [
        "## 7. Kivétel kezelés"
      ]
    },
    {
      "cell_type": "markdown",
      "metadata": {
        "id": "FO-ZkbK2KEAH"
      },
      "source": [
        "A kivételek kezelése a Pythonban a try-except blokkal lehetséges."
      ]
    },
    {
      "cell_type": "code",
      "execution_count": 116,
      "metadata": {
        "id": "VDHXB38SKEAH"
      },
      "outputs": [],
      "source": [
        "def some_function(divisor):\n",
        "    try:\n",
        "        # Nullával osztás hibát dob\n",
        "        10 / divisor\n",
        "\n",
        "    except ZeroDivisionError:\n",
        "        print(\"Oops, invalid.\")\n",
        "        # print(\"Oops, invalid. {}\".format())\n",
        "\n",
        "    else:\n",
        "        # Nincs hiba\n",
        "        print(\"Valid division.\")\n",
        "\n",
        "    finally:\n",
        "        # Ez a code block után fut le, miután az az összes\n",
        "        # hibát lekezelte. Még akkor is, ha a hibakezelés\n",
        "        # közbe új hiba lép fel.\n",
        "        print(\"Function finished.\")"
      ]
    },
    {
      "cell_type": "code",
      "execution_count": null,
      "metadata": {
        "id": "eP9_NDMIKEAI"
      },
      "outputs": [],
      "source": [
        "some_function(1)"
      ]
    },
    {
      "cell_type": "code",
      "execution_count": null,
      "metadata": {},
      "outputs": [],
      "source": [
        "some_function(0)"
      ]
    },
    {
      "cell_type": "code",
      "execution_count": null,
      "metadata": {},
      "outputs": [],
      "source": [
        "help('finally')"
      ]
    },
    {
      "cell_type": "markdown",
      "metadata": {
        "id": "jdkk5KgpKEAI"
      },
      "source": [
        "## 8. Könyvtárak importálása"
      ]
    },
    {
      "cell_type": "markdown",
      "metadata": {
        "id": "uuZVJ4y_KEAI"
      },
      "source": [
        "Külső könyvtárak használata a könyvtár beinportálása után lehetséges. Importálhatunk egész könyvtárat: <br>\n",
        "`import <könyvtár>`  <br>\n",
        "vagy könyvtárak egyes részeit, függvényeit is: <br>\n",
        "`from <könyvtár> import <függvény>` <br>\n",
        "Az `as` paranccsal egy rövidebb kifejezést is társíthatunk a gyakran használt csomagokhoz: <br>\n",
        "`import <könyvtár> as <kulcsszó>`"
      ]
    },
    {
      "cell_type": "code",
      "execution_count": null,
      "metadata": {},
      "outputs": [],
      "source": [
        "randomint = random.randint(1, 100)"
      ]
    },
    {
      "cell_type": "code",
      "execution_count": null,
      "metadata": {
        "id": "Wk3u6P1KKEAI"
      },
      "outputs": [],
      "source": [
        "import random\n",
        "# import random as rnd\n",
        "# from random import randint\n",
        "\n",
        "randomint = randint(1, 100)\n",
        "print(randomint)"
      ]
    },
    {
      "cell_type": "markdown",
      "metadata": {
        "id": "q8twYF5sKEAJ"
      },
      "source": [
        "## 9. Globális változók kezelése "
      ]
    },
    {
      "cell_type": "markdown",
      "metadata": {
        "id": "bQZIv8qPKEAK"
      },
      "source": [
        "A globális változók deklarálása a függvényen kívül történik és további definiálás nélkül használható a függvényen belül. Ha módosítani szeretnénk a függvényen belül (nem csak olvasni), akkor a fügvényen belül kell deklarálni a global kulcsszó használatával különben a Python egy új lokális változót fog létrehozni azonos névvel."
      ]
    },
    {
      "cell_type": "code",
      "execution_count": 4,
      "metadata": {
        "id": "-Q0RQU8cKEAK"
      },
      "outputs": [],
      "source": [
        "number = 5\n",
        "\n",
        "def demoFunc():\n",
        "    # This will print 5.\n",
        "    print(number)\n",
        "\n",
        "def anotherFunc():\n",
        "    # This raises an exception because the variable has not\n",
        "    # been bound before printing. Python knows that it an\n",
        "    # object will be bound to it later and creates a new, local\n",
        "    # object instead of accessing the global one.\n",
        "    print(number)\n",
        "    number = 3\n",
        "\n",
        "def yetAnotherFunc():\n",
        "    global number\n",
        "    # This will correctly change the global.\n",
        "    number = 3"
      ]
    },
    {
      "cell_type": "code",
      "execution_count": null,
      "metadata": {
        "id": "xa6CdcoRKEAK"
      },
      "outputs": [],
      "source": [
        "demoFunc()"
      ]
    },
    {
      "cell_type": "code",
      "execution_count": null,
      "metadata": {
        "id": "s5M8PGcZKEAK"
      },
      "outputs": [],
      "source": [
        "anotherFunc()\n",
        "# A hibaüzenet itt elvárt."
      ]
    },
    {
      "cell_type": "code",
      "execution_count": null,
      "metadata": {
        "id": "oF-JFTGKKEAL"
      },
      "outputs": [],
      "source": [
        "yetAnotherFunc()\n",
        "print(number)"
      ]
    },
    {
      "cell_type": "markdown",
      "metadata": {},
      "source": [
        "Általános elv, hogy kerülendő a globális változók függvényen belüli használata. **Nagyon nehéz debuggolni egy olyan függvényt, ami módosítja egy változó értékét a nélkül, hogy bármi erre utaló jel látható lenne a függvény hívásakor!**"
      ]
    },
    {
      "cell_type": "markdown",
      "metadata": {
        "id": "aPoITx_DKEAL"
      },
      "source": [
        "## 10. NumPy"
      ]
    },
    {
      "cell_type": "markdown",
      "metadata": {
        "id": "omrYBOl1KEAL"
      },
      "source": [
        "A gyakorlatok során leggyakrabban használt python könyvtár a NumPy. Importáljuk a NumPy könyvtárat az `as` parancsal `np` néven."
      ]
    },
    {
      "cell_type": "code",
      "execution_count": 9,
      "metadata": {
        "id": "TA0hr5UpKEAL"
      },
      "outputs": [],
      "source": [
        "import numpy as np"
      ]
    },
    {
      "cell_type": "markdown",
      "metadata": {},
      "source": [
        "### 10.1. NuMpy tömbök"
      ]
    },
    {
      "cell_type": "markdown",
      "metadata": {
        "id": "DZ92czngKEAL"
      },
      "source": [
        "Hozzuk létre az alábbi tömböket: "
      ]
    },
    {
      "attachments": {},
      "cell_type": "markdown",
      "metadata": {
        "id": "0wkrKVtKKEAM"
      },
      "source": [
        "$$A = \n",
        "\\left[\n",
        "\\begin{array}{ccc}\n",
        "0 & 0 & 0\n",
        "\\end{array}\n",
        "\\right]$$\n",
        "\n",
        "$$B = \n",
        "\\left[\n",
        "\\begin{array}{c}\n",
        "1\\\\\n",
        "1\\\\\n",
        "1\n",
        "\\end{array}\n",
        "\\right]$$\n",
        "\n",
        "$$C = \n",
        "\\left[\n",
        "\\begin{array}{cc}\n",
        "1 & 2\\\\\n",
        "3 & 4\\\\\n",
        "5 & 6\n",
        "\\end{array}\n",
        "\\right]$$\n",
        "\n",
        "$$D = \n",
        "\\left[\n",
        "\\begin{array}{cc}\n",
        "0 &1 & 2 & 3 & 4 & 5 & 6\\\\\n",
        "7 & 8 & 9 & 10 & 11 & 12 & 13\\\\\n",
        "14 & 15 & 16 & 17 & 18 & 19 & 20\\\\\n",
        "21 & 22 & 23 & 24 & 25 & 26 & 27\n",
        "\\end{array}\n",
        "\\right]$$\n",
        "\n",
        "A szintaktika: a tömb sorainak elemeit `[ ]` között vesszővel elválasztva adhatók meg az egyes tagokat. Több dimenziós tömbök esetén a sorok szintén `,` karakterrel választhatók el, a sorokat egy újabb `[ ]` párosba helyezendők."
      ]
    },
    {
      "cell_type": "code",
      "execution_count": null,
      "metadata": {
        "id": "DYf9kEWKKEAM"
      },
      "outputs": [],
      "source": [
        "A = np.array([0,0,0])\n",
        "B = np.array([[1],[1],[1]])\n",
        "C = np.array([[1,2],[3,4],[5,6]])\n",
        "D = np.array([[0,1,2,3,4,5,6],[7,8,9,10,11,12,13],[14,15,16,17,18,19,20],[21,22,23,24,25,26,27]])\n",
        "print('A:\\n',A)\n",
        "print('B:\\n',B)\n",
        "print('C:\\n',C)\n",
        "print('D:\\n',D)"
      ]
    },
    {
      "cell_type": "markdown",
      "metadata": {
        "id": "052PctPLKEAM"
      },
      "source": [
        "Visszaellenőrzés során a tömb dimenzióinak lekérdezése [numpy.ndarray.shape](https://docs.scipy.org/doc/numpy/reference/generated/numpy.ndarray.shape.html \"dokumentáció\") paranccsal történik (nem függvény, hanem property).\n",
        "\n",
        "- Írassuk ki az előző cellában létrehozott mátrixok alakját!\n",
        "- Írassuk ki az C mátrix első dimenziójának nagyságát!"
      ]
    },
    {
      "cell_type": "code",
      "execution_count": null,
      "metadata": {
        "id": "7fizbLVmKEAM"
      },
      "outputs": [],
      "source": [
        "print(A.shape)\n",
        "print(B.shape)\n",
        "print(C.shape)\n",
        "print(D.shape)\n",
        "print(C.shape[0])"
      ]
    },
    {
      "cell_type": "markdown",
      "metadata": {
        "id": "jrP22rXDKEAN"
      },
      "source": [
        "Érdemes megfigyelni, hogy a 'sorvektor' esetén 1 dimenziót jelez ki a függvény, míg oszlopvektorok esetén 2 dimenziót. "
      ]
    },
    {
      "cell_type": "markdown",
      "metadata": {
        "id": "sJ53rr8AKEAN"
      },
      "source": [
        "Sokszor szükségünk lehet egy adott lista, tömb vagy mátrix összes elemeinek számára, ez a [numpy.ndarray.size](https://docs.scipy.org/doc/numpy/reference/generated/numpy.ndarray.size.html \"dokumentáció\") -al érhető el (nem azonos a `shape`-el)."
      ]
    },
    {
      "cell_type": "code",
      "execution_count": null,
      "metadata": {
        "id": "kRxQvqpXKEAN"
      },
      "outputs": [],
      "source": [
        "print(A.size)\n",
        "print(D.size)"
      ]
    },
    {
      "cell_type": "markdown",
      "metadata": {
        "id": "58X0iUNbKEAN"
      },
      "source": [
        "Tömb elemére történő hivatkozás az elem sor és oszlop indexével történhet. Az indexelés 0-tól kezdődik.\\\n",
        "Szintaktika:\n",
        "\n",
        "`<tömbnév>[sor, oszlop]`\n",
        "\n",
        ",ahol az elemek helyére `:`-t írva az egész sor vagy oszlop behivatkozható, illetve `x:y` formában a korábban már látott szintaktikának megfelelően részleteket emelhetünk ki a tömbből."
      ]
    },
    {
      "cell_type": "code",
      "execution_count": null,
      "metadata": {
        "id": "7CraSD3cKEAO"
      },
      "outputs": [],
      "source": [
        "print(\"Egy elem\")\n",
        "print(C[0,0])\n",
        "print(\"Egy sor\")\n",
        "print(C[0,:])\n",
        "print(\"Egy oszlop\")\n",
        "print(C[:,0])\n",
        "print(\"Almátrix\")\n",
        "print(D[1:3,2:6])"
      ]
    },
    {
      "cell_type": "markdown",
      "metadata": {
        "id": "IkEq9XyzKEAO"
      },
      "source": [
        "Nullákból álló tömb létrehozása: [numpy.zeros()](https://docs.scipy.org/doc/numpy/reference/generated/numpy.zeros.html \"adatlap\")\n",
        "- hozzunk létre egy (1,5) teljesen zéró mátrixot!\n",
        "- hozznk létre egy a C mátrix nagyságának megfelelő zéró mátrixot!"
      ]
    },
    {
      "cell_type": "code",
      "execution_count": null,
      "metadata": {
        "id": "XxtHftQEKEAO"
      },
      "outputs": [],
      "source": [
        "z1 = np.zeros([1, 5])\n",
        "z2 = np.zeros(C.shape)\n",
        "print(z1)\n",
        "print(z2)"
      ]
    },
    {
      "cell_type": "markdown",
      "metadata": {
        "id": "HfwaXu0rKEAO"
      },
      "source": [
        "Egyesekből álló mátrixok létrehozhatók a [numpy.ones()](https://docs.scipy.org/doc/numpy/reference/generated/numpy.ones.html#numpy.ones \"adatlap\") segítségével.\n",
        "- hozzunk létre egy (1,5) tiszta egyes mátrixot!\n",
        "- hozzunk létre egy a C mátrixnak megfelelő tiszta egyes mátrixot!\n",
        "- hozzunk létre egy a C mátrix sorainak megfelelő számú elemmel rendelkező vektort!"
      ]
    },
    {
      "cell_type": "code",
      "execution_count": null,
      "metadata": {
        "id": "HZ0aEfr0KEAP"
      },
      "outputs": [],
      "source": [
        "o1 = np.ones([1, 5])\n",
        "o2 = np.ones(C.shape)\n",
        "o3 = np.ones(C.shape[0])\n",
        "print(o1)\n",
        "print(o2)\n",
        "print(o3)"
      ]
    },
    {
      "cell_type": "markdown",
      "metadata": {},
      "source": [
        "### 10.2. Tömbök formázása"
      ]
    },
    {
      "cell_type": "markdown",
      "metadata": {
        "id": "8PYqM3wKKEAP"
      },
      "source": [
        "Előfordulhat, hogy a mátrixra egy adott más formában, vagy esetleg 'kilapítva', vektorként van szükség. Ez a [numpy.reshape()](https://docs.scipy.org/doc/numpy/reference/generated/numpy.reshape.html \"dokumentáció\"), illetve a [numpy.ndarray.flatten()](https://docs.scipy.org/doc/numpy/reference/generated/numpy.ndarray.flatten.html \"dokumentáció\") segítségével érhető el.\n",
        "\n",
        "- hozzunk létre egy sorvektort (1xn mátrix) a D mátrixból!\n",
        "- hozzunk létre a D mátrixból egy olyan mátrixot, amely megcseréli a D mátrix dimenzióit! (NEM transzponáltját!)"
      ]
    },
    {
      "cell_type": "code",
      "execution_count": null,
      "metadata": {
        "id": "nFQKGrtrKEAP"
      },
      "outputs": [],
      "source": [
        "R1 = D.reshape([1, D.size])\n",
        "R2 = D.reshape([D.shape[1], D.shape[0]])\n",
        "\n",
        "print(R1)\n",
        "print(R2)"
      ]
    },
    {
      "cell_type": "markdown",
      "metadata": {},
      "source": [
        "Mátrixok vektorrá lapítása (sorok egymás után fűzve):"
      ]
    },
    {
      "cell_type": "code",
      "execution_count": null,
      "metadata": {
        "id": "H3LqEXOzKEAQ"
      },
      "outputs": [],
      "source": [
        "print('C kiterítve:',C.flatten())\n",
        "print('D kiterítve:',D.flatten())"
      ]
    },
    {
      "cell_type": "markdown",
      "metadata": {
        "id": "qb_VHinjKEAP"
      },
      "source": [
        "Transzponált a [numpy.ndarray.transpose()](https://numpy.org/doc/stable/reference/generated/numpy.ndarray.transpose.html \"dokumentáció\") segítségével, vagy a `.T` segítségével hozható létre.\n",
        "- transzponáljuk az A,B,C,D mátrixokat!"
      ]
    },
    {
      "cell_type": "code",
      "execution_count": null,
      "metadata": {
        "id": "maCxKVKGKEAP"
      },
      "outputs": [],
      "source": [
        "print('A:\\n',A,'\\nA.T:\\n',A.T,'\\n')\n",
        "print('B:\\n',B,'\\nB.T\\n',B.T,'\\n')\n",
        "print('C:\\n',C,'\\nC.T\\n',C.T,'\\n')\n",
        "print('D:\\n',D,'\\nD.T\\n',D.T,'\\n')"
      ]
    },
    {
      "cell_type": "markdown",
      "metadata": {
        "id": "MnyfjUlYKEAQ"
      },
      "source": [
        "Láthatjuk, hogy az `transpose()` az A tömbbre nincs hatással, mivel ez vektor (ez legegyszerűbben `.shape` paranccsal ellenőrizhető, ilyenkor az eredmény (x, ) alakú lesz a mátrixos (x, y) formátum helyett), és a NumPy nem tesz különbséget oszlop és sorvektorok között. Ha szükséges a két alak megkülönböztetése, akkor (1 x n) vagy (n x 1) formában kell definiálni."
      ]
    },
    {
      "cell_type": "markdown",
      "metadata": {},
      "source": [
        "### 10.3. Mátrixok összefűzése\n",
        "\n",
        "Hozzunk létre két 2x2-es mátrixot."
      ]
    },
    {
      "cell_type": "code",
      "execution_count": null,
      "metadata": {},
      "outputs": [],
      "source": [
        "x = np.array([[1,2],[3,4]], dtype=np.float64)\n",
        "y = np.array([[5,6],[7,8]], dtype=np.float64)"
      ]
    },
    {
      "cell_type": "code",
      "execution_count": null,
      "metadata": {},
      "outputs": [],
      "source": [
        "print(x, \"\\n\\n\", y)"
      ]
    },
    {
      "cell_type": "markdown",
      "metadata": {},
      "source": [
        "Vizsgáljuk meg, hogyan lehet a mátrixokat különböző módon összeilleszteni."
      ]
    },
    {
      "cell_type": "code",
      "execution_count": null,
      "metadata": {},
      "outputs": [],
      "source": [
        "# Mátrixok összefűzése\n",
        "v_stack = np.vstack((x,y))\n",
        "c_stack = np.column_stack((x,y))\n",
        "stack = np.stack((x,y))\n",
        "\n",
        "print(v_stack, \"\\n\\nshape:\", v_stack.shape)\n",
        "print(\"\\n\")\n",
        "print(c_stack, \"\\n\\nshape:\", c_stack.shape)\n",
        "print(\"\\n\")\n",
        "print(stack, \"\\n\\nshape:\", stack.shape)\n"
      ]
    },
    {
      "cell_type": "markdown",
      "metadata": {},
      "source": [
        "### 10.4. Teljes mátrixon/sorokon/oszlopokon végzett műveletek"
      ]
    },
    {
      "cell_type": "markdown",
      "metadata": {
        "id": "nf0NdSr_KEAQ"
      },
      "source": [
        "Ha egy mátrix elemeinek, sorainak, oszlopainak összegére vagyunk kíváncsiak, akkor a [numpy.sum()](https://docs.scipy.org/doc/numpy/reference/generated/numpy.sum.html \"dokumentáció\") használatos. A függvény alapesetben az összes elemet összegzi, a második (`axis`) argumentummal állítható be, ha csak adott dimenzió szerint szeretnénk összegezni.\n",
        "- összegezzük a D sorait, oszlopait, majd az összes elemét!"
      ]
    },
    {
      "cell_type": "code",
      "execution_count": null,
      "metadata": {
        "id": "O039jdc8KEAR"
      },
      "outputs": [],
      "source": [
        "print(np.sum(D,axis=0))\n",
        "print(np.sum(D,axis=1))\n",
        "print(np.sum(D,axis=None))"
      ]
    },
    {
      "cell_type": "markdown",
      "metadata": {
        "id": "ygzdvNiBKEAR"
      },
      "source": [
        "Ha egy mátrix elemeinek, sorainak, oszlopainak átlagára vagyunk kíváncsiak, akkor a [numpy.mean()](https://docs.scipy.org/doc/numpy/reference/generated/numpy.mean.html#numpy.mean \"dokumentáció\") használható, a `numpy.mean()` függvényhez hasonló módon.\n",
        "- átlagoljuk a D sorait majd külön az oszlopait majd az összes elemét!"
      ]
    },
    {
      "cell_type": "code",
      "execution_count": null,
      "metadata": {
        "id": "BoAjTRmKKEAR"
      },
      "outputs": [],
      "source": [
        "print(np.mean(D,axis=0))\n",
        "print(np.mean(D,axis=1))\n",
        "print(np.mean(D,axis=None))"
      ]
    },
    {
      "cell_type": "markdown",
      "metadata": {
        "id": "DUBbLhrCKEAR"
      },
      "source": [
        "Szórás meghatározása a [numpy.std()](https://docs.scipy.org/doc/numpy/reference/generated/numpy.mean.html#numpy.mean \"dokumentáció\") függvénnyel történik. A `ddof` paraméterrel adható meg, hogy milyen szórástípust szeretnénk (tapasztalati = 0 / korrigált tapasztalati = 1)\n",
        "\n",
        "Feladat:\n",
        "\n",
        "- számoljunk szórást a D sorait majd külön az oszlopait majd az összes elemét!\n",
        "- próbáljuk ki mi történik ha a ddof paramétert 1 -re állítjuk!"
      ]
    },
    {
      "cell_type": "code",
      "execution_count": null,
      "metadata": {
        "id": "vbTaXiSNKEAS"
      },
      "outputs": [],
      "source": [
        "print(np.std(D,axis=0))\n",
        "print(np.std(D,axis=1))\n",
        "print(np.std(D,axis=None, ddof=1))"
      ]
    },
    {
      "cell_type": "markdown",
      "metadata": {
        "id": "Hs4YMWBVKEAW"
      },
      "source": [
        "Szükségünk lehet a [numpy.log()](https://docs.scipy.org/doc/numpy/reference/generated/numpy.log.html \"adatlap\") függvényére is. Ez a NumPy tömbök elemein képes a természetes alapú logaritmus kiszámítására.\n",
        "\n",
        "Feladat:\n",
        "- Számoljuk ki az [1 2 3 4 5] vektor természetes alapú logaritmusát!"
      ]
    },
    {
      "cell_type": "code",
      "execution_count": null,
      "metadata": {
        "id": "oS_YZXM-KEAX"
      },
      "outputs": [],
      "source": [
        "vect = np.array([1, 2, 3, 4, 5])\n",
        "print(np.log(vect))"
      ]
    },
    {
      "cell_type": "markdown",
      "metadata": {},
      "source": [
        "### 10.5. Elemenkénti alap matematikai műveletek"
      ]
    },
    {
      "cell_type": "code",
      "execution_count": null,
      "metadata": {
        "id": "e-Ycua5bKEAT"
      },
      "outputs": [],
      "source": [
        "# Elemenkénti összeadás\n",
        "print(x + y)\n",
        "print(np.add(x, y))"
      ]
    },
    {
      "cell_type": "code",
      "execution_count": null,
      "metadata": {
        "id": "dPRonICgKEAU"
      },
      "outputs": [],
      "source": [
        "# Elemenkénti kivonás\n",
        "print(x - y)\n",
        "print(np.subtract(x, y))"
      ]
    },
    {
      "cell_type": "code",
      "execution_count": null,
      "metadata": {
        "id": "Ui2iFGfAKEAU"
      },
      "outputs": [],
      "source": [
        "# Elemenkénti szorzás\n",
        "print(x * y)\n",
        "print(np.multiply(x, y))"
      ]
    },
    {
      "cell_type": "code",
      "execution_count": null,
      "metadata": {
        "id": "5b09UEdSKEAU"
      },
      "outputs": [],
      "source": [
        "# Elemenkénti osztás\n",
        "print(x / y)\n",
        "print(np.divide(x, y))"
      ]
    },
    {
      "cell_type": "code",
      "execution_count": null,
      "metadata": {
        "id": "igSF9ZmnKEAV"
      },
      "outputs": [],
      "source": [
        "#Elemenkénti négyzetre emelés\n",
        "print(x ** 2)\n",
        "print(np.square(x))"
      ]
    },
    {
      "cell_type": "code",
      "execution_count": null,
      "metadata": {
        "id": "fHSJkElVKEAV"
      },
      "outputs": [],
      "source": [
        "# Elemenkénti gyökvonás\n",
        "print(np.sqrt(x))"
      ]
    },
    {
      "cell_type": "markdown",
      "metadata": {},
      "source": [
        "### 10.6. Mátrixszorzás"
      ]
    },
    {
      "cell_type": "markdown",
      "metadata": {
        "id": "hw7hVwJRKEAV"
      },
      "source": [
        "A `*` operátor elemenkénti szorzást jelent. Mátrixszorzásra a `np.ndarray.dot()` függvény vagy a `@` operátor használható."
      ]
    },
    {
      "cell_type": "code",
      "execution_count": 31,
      "metadata": {
        "id": "GHSFjKS8KEAV"
      },
      "outputs": [],
      "source": [
        "x = np.array([[1,2],[3,4]]) # mátrix\n",
        "y = np.array([[5,6],[7,8]]) # mátrix\n",
        "\n",
        "v = np.array([9,10]) # vektor\n",
        "w = np.array([11, 12]) # vektor"
      ]
    },
    {
      "cell_type": "code",
      "execution_count": null,
      "metadata": {
        "id": "N4xUf0jLKEAW"
      },
      "outputs": [],
      "source": [
        "# Vektor-vektor szorzat\n",
        "print(v.dot(w))\n",
        "print(np.dot(v, w))\n",
        "print(v@w)"
      ]
    },
    {
      "cell_type": "code",
      "execution_count": null,
      "metadata": {
        "id": "Yxju1n8GKEAW"
      },
      "outputs": [],
      "source": [
        "# Mátrix vektor szorzat\n",
        "print('Mátrix jobbról szorozva vektorral')\n",
        "print(x.dot(v))\n",
        "print(np.dot(x, v))\n",
        "print(x@v)\n",
        "\n",
        "print('\\n')\n",
        "\n",
        "print('Mátrix balról szorozva vektorral')\n",
        "print(v.dot(x))\n",
        "print(np.dot(v, x))\n",
        "print(v@x)"
      ]
    },
    {
      "cell_type": "code",
      "execution_count": null,
      "metadata": {
        "id": "Pnn5TFt3KEAW"
      },
      "outputs": [],
      "source": [
        "# Mátrix mátrix szorzás (megfelelő méreteknek stimmelnie kell)\n",
        "\n",
        "print(x.dot(y))\n",
        "print(np.dot(x, y))\n",
        "print(x@y)"
      ]
    },
    {
      "cell_type": "markdown",
      "metadata": {
        "id": "kfcp3LezKEAX"
      },
      "source": [
        "## 11. Adatok ábrázolása MatPlotLib-el"
      ]
    },
    {
      "cell_type": "markdown",
      "metadata": {
        "id": "xVxV4vYEKEAX"
      },
      "source": [
        "A grafikonok ábrázolásának legalapvetőbb megoldása a MatPlotLib használata. Importáljuk be a könyvtárat, definiáljunk egy adathalmazt, majd ábrázoljuk."
      ]
    },
    {
      "cell_type": "code",
      "execution_count": 40,
      "metadata": {
        "id": "6AeO_Mv9KEAX"
      },
      "outputs": [],
      "source": [
        "import matplotlib.pyplot as plt\n",
        "import numpy as np\n",
        "\n",
        "x = np.array([0, 1, 2, 3, 4, 5, 6, 7, 8, 9])\n",
        "y = np.array([5, 6, 6, 7, 8, 3, 4, 4, 7, 10])"
      ]
    },
    {
      "cell_type": "markdown",
      "metadata": {
        "id": "VGkVRTZLKEAX"
      },
      "source": [
        "Rajzoljuk ki az y(x) függvény értékeit. Ehhez a [matplotlib.pyplot.plot()](https://matplotlib.org/3.1.1/api/_as_gen/matplotlib.pyplot.plot.html \"dokumentáció\") használható.\n",
        "Állítsuk be az tengelyeknek megfelelő tengelyfeliratot és adjunk címet is az ábrának. Ezek rendre a [matplotlib.pyplot.xlabel()](https://matplotlib.org/3.1.1/api/_as_gen/matplotlib.pyplot.xlabel.html \"dokumentáció\") , [matplotlib.pyplot.ylabel()](https://matplotlib.org/3.1.1/api/_as_gen/matplotlib.pyplot.ylabel.html \"dokumentáció\") , [matplotlib.pyplot.title()](https://matplotlib.org/3.1.1/api/_as_gen/matplotlib.pyplot.title.html \"dokumentáció\") függvényekkel tehetők meg, majd az eredmény a [matplotlib.pyplot.show()](https://matplotlib.org/3.1.1/api/_as_gen/matplotlib.pyplot.show.html \"dokumentáció\") segítségével jeleníthető meg."
      ]
    },
    {
      "cell_type": "code",
      "execution_count": null,
      "metadata": {
        "id": "ahqjmxMLKEAY"
      },
      "outputs": [],
      "source": [
        "plt.plot(x,y)\n",
        "plt.xlabel('x értékek')\n",
        "plt.ylabel('y értékek')\n",
        "plt.title('X-Y grafikon')\n",
        "plt.show()"
      ]
    },
    {
      "cell_type": "markdown",
      "metadata": {
        "id": "Yybx2gcrKEAY"
      },
      "source": [
        "Jelenítsünk meg egy második adatsort az adott ábrán és címkézéssel azonsítsuk azokat. Ez a plot parancson belül adható meg a `label = '...'` módon. A jelmagyarázat a [matplotlib.pyplot.legend()](https://matplotlib.org/3.1.1/api/_as_gen/matplotlib.pyplot.legend.html \"dokumentáció\") segítségével jeleníthető meg."
      ]
    },
    {
      "cell_type": "code",
      "execution_count": null,
      "metadata": {
        "id": "RzUPndCuKEAY"
      },
      "outputs": [],
      "source": [
        "yy = np.array([ 0, 0, 0, 0, 1, 1, 2, 3, 4, 5])\n",
        "plt.plot(x,y, label = 'y értékek')\n",
        "plt.plot(x,yy, label = 'yy értékek')\n",
        "plt.xlabel('x értékek')\n",
        "plt.ylabel('y értékek')\n",
        "plt.title('Ez egy ábra')\n",
        "plt.legend()\n",
        "plt.show()"
      ]
    },
    {
      "cell_type": "markdown",
      "metadata": {},
      "source": [
        "## 12.\n",
        "A végére egy Easter egg azoknak, akik eljutottak idáig:"
      ]
    },
    {
      "cell_type": "code",
      "execution_count": null,
      "metadata": {},
      "outputs": [],
      "source": [
        "import this"
      ]
    }
  ],
  "metadata": {
    "colab": {
      "provenance": []
    },
    "kernelspec": {
      "display_name": "Python 3",
      "language": "python",
      "name": "python3"
    },
    "language_info": {
      "codemirror_mode": {
        "name": "ipython",
        "version": 3
      },
      "file_extension": ".py",
      "mimetype": "text/x-python",
      "name": "python",
      "nbconvert_exporter": "python",
      "pygments_lexer": "ipython3",
      "version": "3.11.1"
    }
  },
  "nbformat": 4,
  "nbformat_minor": 0
}
