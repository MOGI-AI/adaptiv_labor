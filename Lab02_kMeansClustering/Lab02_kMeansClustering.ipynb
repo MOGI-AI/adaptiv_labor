{
 "cells": [
  {
   "attachments": {},
   "cell_type": "markdown",
   "metadata": {},
   "source": [
    "# 2. Labor: k-Means clustering algoritmus"
   ]
  },
  {
   "attachments": {},
   "cell_type": "markdown",
   "metadata": {},
   "source": [
    "A gépi tanulás algoritmusai **három fő csoportba** oszthatók:\n",
    "- Felügyelt (Supervised) tanulás\n",
    "- Felügyelet nélküli (Unsupervised) tanulás\n",
    "- Megerősítéses (Reinforcement) tanulás\n",
    "\n",
    "<!---\n",
    "<center><img src=\"img/ML_branches.svg\" width=\"700\"></center>\n",
    "-->\n",
    "<center><img src=\"https://raw.githubusercontent.com/MOGI-AI/adaptiv_labor/main/Lab02_kMeansClustering/img/ML_branches.svg\" width=\"700\"></center>\n",
    "\n",
    "\n",
    "A felügyelt tanulás esetén a bemeneti adathalmazunkhoz tartoznak kimeneti értékek. A tanulás során a célunk az, hogy a modell a már meglévő kimeneti adatokat a lehető legjobban visszaadja. A tanulás \"felügyelt\", mert megadjuk, milyen eredményt várunk.\n",
    "\n",
    "A felügyelet nélküli tanulás esetében ez másképp van, itt nincsenek referencia kimenetek. Egy adott bemeneti adat halmazból szeretnénk, ha a tanulási módszer valamely módon kimeneti adatokat rendelne a bemenethez, azaz \"felügyelet nélkül\" kell a kimenet értékét behangolni. Felügyelet nélküli tanítást akkor alkalmazunk a gyakorlatban, ha egy adott adathalmazon kapcsolatokat, összefüggéseket szeretnénk azonosítani.\n",
    "\n",
    "A harmadik csoport esetében nem bemeneti és kimenetei adatok között szeretnénk kapcsolatot teremteni, hanem egy olyan modellt (ágenst / ügynököt) létrehozni, ami egy adott környezetben a lehető legjobban teljesít. Az ügynök próbálkozásai során pozitív vagy negatív visszacsatolással (több / kevesebb pontot ért el) próbáljuk a legoptimálisabb viselkedésre, azaz a pontszám maximalizálására ösztökélni (a gépi tanulás ezen ága nem tárgya a jelen tárgynak)."
   ]
  },
  {
   "attachments": {},
   "cell_type": "markdown",
   "metadata": {},
   "source": [
    "**Előző alkalommal** egy **lineáris regresszió**s példát oldottunk meg gradiens módszer alkalmazásával. Mivel megadtuk, hogy a modellnek milyen kimeneti adatokat kell reprodukálnia, ez egy **felügyelt tanulás**i probléma volt, annak is regressziós altípusa. A mai laborgyakorlaton a **felügyelet nélküli tanulás** módszerei közül a **klasszikus k-közép algoritmus**t fogjuk implementálni."
   ]
  },
  {
   "attachments": {},
   "cell_type": "markdown",
   "metadata": {},
   "source": [
    "### k-Means klaszterezési algoritmus"
   ]
  },
  {
   "attachments": {},
   "cell_type": "markdown",
   "metadata": {},
   "source": [
    "A k-Means klaszterezés az egy *iteratív módszer*, amely egyes adatokat az alapján sorolja klaszterekbe, hogy az adatok terében melyik középponthoz, u.n. centroidhoz van a legközelebb. Az algoritmus a centroidok iteratív mozgatásától lesz tanuló algoritmus. Az algoritmus az alábbi lépésekből áll:\n",
    "1. Kívánt klaszterek számának meghatározása\n",
    "2. Megfelelő számú centroid inicializálása\n",
    "3. Centroidok iteratív optimalizálása\n",
    "    1. Az egyes adatpontokhoz a legközelebb eső centroid megtalálása\n",
    "    2. Centroid új helyének meghatározása a klaszterbe sorolt adatpontok súlypontjaként\n",
    "4. Iteráció ismétlése leállási kondícióig\n",
    "\n",
    "A centroid és az adatpont közötti távolság alatt euklideszi tárvolságot értünk. Két dimenzió esetén:\n",
    "$$ d = \\sqrt{(x-x_c)^2+(y-y_c)^2} $$\n",
    "Az összehasonlítás szempontjából a gyökvonás elhagyható és számolhatunk $d^2$-el is. Ahol a távoslágnégyzet kissebb, ott a tényleges távolság is kisseb lesz az adott centroidhoz.\n",
    "\n",
    "A k-Means klaszterezés jóságát itt is költségfügvénnyel tudjuk leírni. A költésget ebben az esetben **inerciának** nevezzük, amely nem más, mint az egyes adatpontok megfelelő centroidtól vett távolságainak az összege."
   ]
  },
  {
   "attachments": {},
   "cell_type": "markdown",
   "metadata": {},
   "source": [
    "### k-Means algoritmus problémái"
   ]
  },
  {
   "attachments": {},
   "cell_type": "markdown",
   "metadata": {},
   "source": [
    "#### Kezdeti centroidok megválasztása\n",
    "\n",
    "A k-Means algoritmus érzékeny a kezdeti centroidok pozíciójára. Eltérő kezdeti helyzetek esetén az algoritmus előfordulhat, hogy más lokális minimumot ér el, amely adott esetben nem felel meg az általunk elvárt megoldásnak.\n",
    "\n",
    "<!---\n",
    "<center><img src=\"img/localOpt.svg\" width=\"900\"></center>\n",
    "-->\n",
    "<center><img src=\"https://raw.githubusercontent.com/MOGI-AI/adaptiv_labor/main/Lab02_kMeansClustering/img/localOpt.svg\" width=\"900\"></center>\n",
    "\n"
   ]
  },
  {
   "attachments": {},
   "cell_type": "markdown",
   "metadata": {},
   "source": [
    "#### Klaszterek számának megválasztása\n",
    "\n",
    "A k-Means algoritmus előre megadott számú klasztert határoz meg, azok számának megválasztásához nem ad segítséget. A klaszterek számának megválasztása történhet:\n",
    "- intuitív módon, adatfelfedezés után (szemre látszik, hogy x klaszter adott)\n",
    "- könyök módszerrel\n",
    "\n",
    "A könyök (elbow) módszer esetében az algoritmust több különböző klaszterszámmal lefuttatjuk, és megvizsgáljuk az elért költségfüggvény értékekét a klaszterek számának függvényében.\n",
    "\n",
    "<!---\n",
    "<center><img src=\"img/elbow.svg\" width=\"900\"></center>\n",
    "-->\n",
    "<center><img src=\"https://raw.githubusercontent.com/MOGI-AI/adaptiv_labor/main/Lab02_kMeansClustering/img/Elbow.svg\" width=\"900\"></center>\n",
    "\n",
    "Ahogy a jobb oldali ábrán is látszik, akadnak olyan esetek, amikor a könyök szabály nem alkalmazható, például, egy megközelítóleg lineáris eloszlású adathalmaz szeparálásánál. Ilyen esetre példa a ruhaméretek meghatározása. Itt csak a felhasználóra bízva, hogy milyen részleteséggel szeretné beosztani a skálát.\n",
    "\n",
    "<!---\n",
    "<center><img src=\"img/t-shirt_size.svg\" width=\"900\"></center>\n",
    "-->\n",
    "<center><img src=\"https://raw.githubusercontent.com/MOGI-AI/adaptiv_labor/main/Lab02_kMeansClustering/img/t-shirt_size.svg\" width=\"900\"></center>\n"
   ]
  },
  {
   "attachments": {},
   "cell_type": "markdown",
   "metadata": {},
   "source": [
    "## 00: Könyvtár importálások\n",
    "\n",
    "Első lépésként importáljuk a feladat megoldása során használt könyvtárakat. Esetünkben ezek a következők lesznek:\n",
    "- Numpy a matematikia műveletek elvégzéséhez\n",
    "- Pandas az adatok beolvasásához és kezeléséhez\n",
    "- MatPlotLib.pyplot az eredményeink ábrázolásához\n",
    "- Plotly Express interaktív vizualizációhoz"
   ]
  },
  {
   "cell_type": "code",
   "execution_count": null,
   "metadata": {},
   "outputs": [],
   "source": [
    "import numpy as np\n",
    "import pandas as pd\n",
    "import matplotlib.pyplot as plt\n",
    "import plotly.express as px\n",
    "\n",
    "# Használjuk ezeket sötét téma esetén\n",
    "plt.style.use('dark_background')\n",
    "styleTemplate = 'plotly_dark'\n",
    "\n",
    "# Használjuk ezeket világos téma esetén\n",
    "#plt.style.use('default')\n",
    "#styleTemplate = 'plotly_white'"
   ]
  },
  {
   "attachments": {},
   "cell_type": "markdown",
   "metadata": {},
   "source": [
    "## 01: Adatbeolvasás"
   ]
  },
  {
   "cell_type": "code",
   "execution_count": null,
   "metadata": {},
   "outputs": [],
   "source": [
    "df = pd.read_csv('clusterData.txt', sep = ',', header=0)\n",
    "df.head(10)"
   ]
  },
  {
   "attachments": {},
   "cell_type": "markdown",
   "metadata": {},
   "source": [
    "## 02: Adatfelfedezés\n",
    "\n",
    "Új adthalmazzal történő első interrakció során érdemes azt először megvizsgálni, alapvető vizualizációkat ábrázolni, hogy legyen egy elsődleges \"benyomás\" az adatok jellegéről. Ábrázoljuk az adatokat egy X-Y diagrammon."
   ]
  },
  {
   "cell_type": "code",
   "execution_count": null,
   "metadata": {},
   "outputs": [],
   "source": [
    "# Vizualizáció MatPlotLib-el\n",
    "plt.figure(figsize=(7.5, 5))\n",
    "\n",
    "plt.scatter(df['X'], df['Y'])\n",
    "\n",
    "plt.title('Klaszterezés kiinduló adatai')\n",
    "plt.xlabel('X')\n",
    "plt.ylabel('Y')\n",
    "\n",
    "plt.show()"
   ]
  },
  {
   "attachments": {},
   "cell_type": "markdown",
   "metadata": {},
   "source": [
    "Az ábrázolás alapján jól látható, hogy 3 darab klaszter található az adatsorban, így a későbbiekben ennyi centroiddal kell majd dolgoznunk."
   ]
  },
  {
   "attachments": {},
   "cell_type": "markdown",
   "metadata": {},
   "source": [
    "## 03: Adatok előkészítése\n",
    "\n",
    "A következő lépés az adatok előkészítése és a modellillesztés elvégzéshez szükséges változók létrehozása."
   ]
  },
  {
   "cell_type": "code",
   "execution_count": null,
   "metadata": {},
   "outputs": [],
   "source": [
    "data = df[['X', 'Y']].to_numpy()    # Bemeneti változók oszlopainak kiemelése és tömmbé konvertálása\n",
    "    \n",
    "print('Data shape:', data.shape)    # adattömbök méretének / adatok számának kiírása"
   ]
  },
  {
   "attachments": {},
   "cell_type": "markdown",
   "metadata": {},
   "source": [
    "A kMeans algoritmus számára meg kell adnunk a klaszterekhez tartozó centroidok kiindulási pozícióit."
   ]
  },
  {
   "cell_type": "code",
   "execution_count": null,
   "metadata": {},
   "outputs": [],
   "source": [
    "K = 3                                                           # klaszterszám\n",
    "init_centroids = np.array([[3,3],[6,2],[8,5]])                  # kezdeti értékek a klaszterek középpontjához\n",
    "print('Középpontok kezdeti értéke:\\n',init_centroids)"
   ]
  },
  {
   "attachments": {},
   "cell_type": "markdown",
   "metadata": {},
   "source": [
    "Ábrázoljuk a centrodiok kiindulási helyeit is."
   ]
  },
  {
   "cell_type": "code",
   "execution_count": null,
   "metadata": {},
   "outputs": [],
   "source": [
    "plt.figure(figsize=(7.5, 5))\n",
    "\n",
    "plt.scatter(df['X'], df['Y'])\n",
    "plt.scatter(init_centroids[:,0], init_centroids[:,1], c = 'red')\n",
    "\n",
    "plt.title('Klaszterezés kiinduló adatai')\n",
    "plt.xlabel('X')\n",
    "plt.ylabel('Y')\n",
    "\n",
    "plt.show()"
   ]
  },
  {
   "attachments": {},
   "cell_type": "markdown",
   "metadata": {},
   "source": [
    "## 04: Modell implementációja\n",
    "\n",
    "A kMeans algoritmus két fő lépés iterálásból áll:\n",
    "- a pontokhoz legközelebb eső ceentroid kiválasztása\n",
    "- centroidok újraszámolása a hozzá tartozó pontok alapján"
   ]
  },
  {
   "attachments": {},
   "cell_type": "markdown",
   "metadata": {},
   "source": [
    "**Feladat:** implementálja az egyes pontokhoz tartozó klaszter indexét meghatározó metódust, illetve az adott centroidokhoz tartozó inerciát! Az idx változó egy olyan tömb legyen, amely minden adatpontra tartalmazza a hozzá legközelebb eső centroid indexét!\n",
    "\n",
    "*Tipp:* a `np.argmin()` egy adott tömb adott dimenziója mentén visszatér a minimum érték indexével"
   ]
  },
  {
   "cell_type": "code",
   "execution_count": null,
   "metadata": {},
   "outputs": [],
   "source": [
    "def findClosestCentroids(data,centroids):    \n",
    "    K = centroids.shape[0]\n",
    "    dist=np.zeros([data.shape[0], K])\n",
    "################################################    \n",
    "\n",
    "\n",
    "\n",
    "\n",
    "\n",
    "\n",
    "################################################    \n",
    "    return idx, inertia\n",
    "\n",
    "idx , inertia = findClosestCentroids(data, init_centroids)\n",
    "\n",
    "print('Az első három adatponthoz tartozó klaszterek indexei (elvárt: 0-2-1):\\n',idx[0:3])\n",
    "print('Inercia a kiindulási centroidokra (elvárt: 571.9534944128595):\\n',inertia)\n",
    "\n",
    "if (init_centroids != [[3,3],[6,2],[8,5]]).any():\n",
    "    print('A centroidok kiidnulási értékei nem jók!')\n",
    "elif (idx[0:3] != [0, 2, 1]).any():\n",
    "    print('A legközelebbi centroidot meghatározó algoritmus nem jó!')\n",
    "elif (inertia != 571.9534944128595):\n",
    "    print('Az inercia számítása nem megfelelő!')"
   ]
  },
  {
   "attachments": {},
   "cell_type": "markdown",
   "metadata": {},
   "source": [
    "**Feladat:** implementálja metódust, amely az adatok és a hozzájuk tartozó klaszter indexek alapján, kiszámítja az új centroidok értékeit!\n",
    "\n",
    "*Tipp:* np tömböt egy bool változókat tartalmazó tömbbel indexelve 'maszkolni' tudunk:\n",
    "\n",
    "    >>> a = np.array([True, False, True, False])\n",
    "    >>> b = np.array([[1,2,], [3, 4], [5, 6], [7, 8]])\n",
    "    >>> b[a,:]\n",
    "    array([[1, 2],\n",
    "           [5, 6]])"
   ]
  },
  {
   "cell_type": "code",
   "execution_count": null,
   "metadata": {},
   "outputs": [],
   "source": [
    "def computeCentroids(data,idx,K):\n",
    "    centroids = np.zeros((K,data.shape[1]))\n",
    "################################################    \n",
    "\n",
    "\n",
    "################################################    \n",
    "    return centroids\n",
    "\n",
    "centroids = computeCentroids(data,idx,K)\n",
    "print(\"\"\"Centroidok pozíciói egy iteráció után:\n",
    "Várt értékek:\n",
    " [[2.42830111 3.15792418]\n",
    " [5.81350331 2.63365645]\n",
    " [7.11938687 3.6166844 ]]\n",
    "Számított értékek:\"\"\")\n",
    "print(centroids)"
   ]
  },
  {
   "attachments": {},
   "cell_type": "markdown",
   "metadata": {},
   "source": [
    "A klaszterezési eljárást futtathatjuk addig, amíg:\n",
    "- a centroidok pozícióiban már nem következik be változás;\n",
    "- a változás elegendően kicsi;\n",
    "- elér egy adott számú iterációt."
   ]
  },
  {
   "attachments": {},
   "cell_type": "markdown",
   "metadata": {},
   "source": [
    "**Feladat**: implementálja a fentiekben adott metódusok használatával a k-Means algoritmust, rögzítve az egyes iterációkban a centroidok pozícióját! Amennyiben az előző lépéshez képest nincs változás a centroidok pozíciójában, az iteráció álljon le akkor is, ha nem értük el a max iterációk számát!"
   ]
  },
  {
   "cell_type": "code",
   "execution_count": null,
   "metadata": {},
   "outputs": [],
   "source": [
    "def kMeans(data, init_cents, max_iters):\n",
    "    K = init_cents.shape[0]\n",
    "    idx = np.zeros([data.shape[0]])\n",
    "    centroids = init_cents\n",
    "    cent_hist = np.zeros([init_cents.shape[0],init_cents.shape[1],max_iters+1]) # Klaszterközéppontok pozíciójáank alakulása a tanulás során\n",
    "    cent_hist[:,:,0] = init_cents\n",
    "################################################  \n",
    "\n",
    "\n",
    "\n",
    "\n",
    "\n",
    "\n",
    "\n",
    "\n",
    "\n",
    "\n",
    "\n",
    "\n",
    "\n",
    "\n",
    "\n",
    "\n",
    "\n",
    "################################################\n",
    "    return centroids, idx, cent_hist"
   ]
  },
  {
   "attachments": {},
   "cell_type": "markdown",
   "metadata": {},
   "source": [
    "## 05: Model tanítás"
   ]
  },
  {
   "attachments": {},
   "cell_type": "markdown",
   "metadata": {},
   "source": [
    "A k-Means algoritmus futtatása 5 iterációval:"
   ]
  },
  {
   "cell_type": "code",
   "execution_count": null,
   "metadata": {},
   "outputs": [],
   "source": [
    "max_iters = 5\n",
    "init_cents = np.array([[3,3],[6,2],[8,5]])\n",
    "\n",
    "centroids, idx, cent_hist = kMeans(data, init_cents, max_iters)\n",
    "\n",
    "print()\n",
    "print('Az elvárt inercia 5 iteráció után: 239.41')\n",
    "print()\n",
    "print(\"\"\"Centroidok 5 iteráció után:\n",
    "Elvárt:\n",
    " [[1.95399466 5.02557006]\n",
    " [3.12663743 1.1121712 ]\n",
    " [6.12919526 3.01606258]]\n",
    "Számított:\n",
    "\"\"\",centroids)"
   ]
  },
  {
   "attachments": {},
   "cell_type": "markdown",
   "metadata": {},
   "source": [
    "A k-Means algoritmus futtatása 10 iterációval:"
   ]
  },
  {
   "cell_type": "code",
   "execution_count": null,
   "metadata": {},
   "outputs": [],
   "source": [
    "max_iters = 10\n",
    "init_cents = np.array([[3,3],[6,2],[8,5]])\n",
    "\n",
    "centroids, idx, cent_hist = kMeans(data, init_cents, max_iters)\n",
    "print()\n",
    "print('Az konvergenciáig elvárt iterációk száma: 7')\n",
    "print('Az elvárt inercia konvergencia után: 238.25')\n",
    "print()\n",
    "print(\"\"\"Centroidok konvergencia után:\n",
    "Elvárt:\n",
    " [[1.95399466 5.02557006]\n",
    " [3.04367119 1.01541041]\n",
    " [6.03366736 3.00052511]]\n",
    "Számított:\n",
    "\"\"\",centroids)"
   ]
  },
  {
   "attachments": {},
   "cell_type": "markdown",
   "metadata": {},
   "source": [
    "## 06: Modell értékelése\n",
    "\n",
    "A tanulási folyamat értkeléséhez rekreáljuk az egyes iterációkhoz tartozó kalszterindexeket és inerciát."
   ]
  },
  {
   "cell_type": "code",
   "execution_count": null,
   "metadata": {},
   "outputs": [],
   "source": [
    "iter = cent_hist.shape[2]\n",
    "inertia_hist = np.zeros([iter])\n",
    "idx_hist = np.zeros([data.shape[0], iter])\n",
    "for i in range(iter):\n",
    "    idx_hist[:,i], inertia_hist[i] = findClosestCentroids(data, cent_hist[:,:,i])"
   ]
  },
  {
   "attachments": {},
   "cell_type": "markdown",
   "metadata": {},
   "source": [
    "Ábrázoljuk az inercia értékének változását az iterációk során!"
   ]
  },
  {
   "cell_type": "code",
   "execution_count": null,
   "metadata": {},
   "outputs": [],
   "source": [
    "plt.plot(range(iter), inertia_hist)                                         # Inercia history kirajzolása\n",
    "plt.title(\"kMeans algoritmus inerciája az iterációkon keresztül\",pad= 20)\n",
    "plt.xlabel(\"Iteráció\")\n",
    "plt.ylabel(\"Inercia\")\n",
    "plt.show()"
   ]
  },
  {
   "attachments": {},
   "cell_type": "markdown",
   "metadata": {},
   "source": [
    "Ábrázoljuk a centroidok mozgását az iterációk során!"
   ]
  },
  {
   "cell_type": "code",
   "execution_count": null,
   "metadata": {},
   "outputs": [],
   "source": [
    "# Adatok összerendezése a folyamat animáláshoz\n",
    "\n",
    "df_animate = pd.DataFrame(columns=['X', 'Y', 'iter', 'idx'])\n",
    "for iter in range(cent_hist.shape[2]):\n",
    "    df_data = pd.DataFrame(data, columns= ['X', 'Y'])\n",
    "    df_data['iter'] = iter\n",
    "    df_data['idx'] = idx_hist[:,iter]\n",
    "\n",
    "    df_centroid = pd.DataFrame(cent_hist[:,:,iter], columns= ['X', 'Y'])\n",
    "    df_centroid['iter'] = iter\n",
    "    df_centroid['idx'] = cent_hist.shape[0]\n",
    "\n",
    "    df_animate = pd.concat([df_animate, df_data, df_centroid], axis = 0, ignore_index= True)"
   ]
  },
  {
   "cell_type": "code",
   "execution_count": null,
   "metadata": {},
   "outputs": [],
   "source": [
    "fig = px.scatter(data_frame = df_animate, x='X', y='Y', animation_frame='iter', color='idx', hover_name='idx',\n",
    "                 color_continuous_scale=[\"red\", \"green\", \"blue\", \"goldenrod\"])\n",
    "\n",
    "fig.update_layout(\n",
    "    title = \"k-Means algoritmus\",\n",
    "    xaxis_title = 'X',\n",
    "    yaxis_title = \"Y\",\n",
    "    template=styleTemplate,\n",
    "    coloraxis_showscale=False,\n",
    "    width=750,\n",
    "    height=500) \n",
    "\n",
    "fig.layout.updatemenus[0].buttons[0].args[1]['frame']['duration'] = 1000\n",
    "fig.layout.updatemenus[0].buttons[0].args[1]['transition']['duration'] = 300\n",
    "\n",
    "fig.show()"
   ]
  },
  {
   "attachments": {},
   "cell_type": "markdown",
   "metadata": {},
   "source": [
    "## 07: Példa - képtömörítés k-Mean klaszterezéssel\n",
    "\n",
    "A következő példában egy kép színeinek k-Means algoritmus segítségével történő kiválasztása és ezzel tömörítése látható. A példa teljes mértékben játékpélda, a valóságban sokkal jobb algoritmusok létezenek erre a feladatra."
   ]
  },
  {
   "cell_type": "code",
   "execution_count": null,
   "metadata": {},
   "outputs": [],
   "source": [
    "import imageio.v2 as imageio\n",
    "img = np.asarray(imageio.imread('bird_small.jpg'))/255\n",
    "\n",
    "plt.imshow(img)"
   ]
  },
  {
   "cell_type": "code",
   "execution_count": null,
   "metadata": {},
   "outputs": [],
   "source": [
    "def kMeansInitCentroids(X,K):\n",
    "    cents = np.zeros((K,X.shape[1]))\n",
    "    randindx = np.random.permutation(X.shape[0])\n",
    "    cents = X[randindx[0:K],:]\n",
    "    \n",
    "    return cents"
   ]
  },
  {
   "cell_type": "code",
   "execution_count": null,
   "metadata": {},
   "outputs": [],
   "source": [
    "dataImg = img.reshape((int(img.size/3),3))\n",
    "\n",
    "max_iters = 20\n",
    "K = 3\n",
    "\n",
    "init_cents = kMeansInitCentroids(dataImg,K)\n",
    "print('Kezdeti centroidok:\\n',init_cents)\n",
    "centroids, idx, cent_hist = kMeans(dataImg, init_cents, max_iters)\n",
    "print('K-Means clustering done...')"
   ]
  },
  {
   "cell_type": "code",
   "execution_count": null,
   "metadata": {},
   "outputs": [],
   "source": [
    "img_recovered = centroids[idx.astype(int),:]\n",
    "img_recovered = np.reshape(img_recovered, (img.shape[0], img.shape[1], img.shape[2]))\n",
    "plt.imshow(img_recovered)"
   ]
  },
  {
   "attachments": {},
   "cell_type": "markdown",
   "metadata": {},
   "source": [
    "## XX: Megoldás a Scikit Learn könyvtár segítségével\n",
    "\n",
    "Természetesen a k-Means algoritmust is megtalálhatjuk a megfelelő könyvtárban már implementált algoritmusként. Ez a metódus a szimpla k-Means-en felül több optimalizálást is tartalmaz. Részletek: <https://scikit-learn.org/stable/modules/generated/sklearn.cluster.KMeans.html#sklearn.cluster.KMeans>"
   ]
  },
  {
   "cell_type": "code",
   "execution_count": null,
   "metadata": {},
   "outputs": [],
   "source": [
    "from sklearn.cluster import KMeans\n",
    "\n",
    "df = pd.read_csv('clusterData.txt', sep = ',', header=0)                # adatok beolvasása\n",
    "\n",
    "kMeans = KMeans(n_clusters = 3)                                         # centroidok inicilaizálása automatikus\n",
    "kMeans.fit(df[['X' ,'Y']])                                              # modell illesztése X,Y alapján\n",
    "\n",
    "print('Scikit-learn KMeans által számítiott centroidok:')               # számított centroidok\n",
    "print(kMeans.cluster_centers_)"
   ]
  },
  {
   "attachments": {},
   "cell_type": "markdown",
   "metadata": {},
   "source": [
    "Klaszterezés eredményének ábrázolása:"
   ]
  },
  {
   "cell_type": "code",
   "execution_count": null,
   "metadata": {},
   "outputs": [],
   "source": [
    "fig = px.scatter(data_frame = df, x='X', y='Y',                          # Eredmények ábrázolása\n",
    "                         color=kMeans.labels_,\n",
    "                         color_continuous_scale=[\"red\", \"green\", \"blue\"])\n",
    "\n",
    "fig.add_scatter(x=kMeans.cluster_centers_[:,0],                  # Centroidok\n",
    "                y=kMeans.cluster_centers_[:,1],                          \n",
    "                marker_color = 'goldenrod',\n",
    "                line_width = 0)  \n",
    "\n",
    "fig.update_layout(                                                      # Plot formázása\n",
    "    title = \"Scikit-learn KMeans algoritmus\",\n",
    "    xaxis_title = 'X',\n",
    "    yaxis_title = 'Y',\n",
    "    template=styleTemplate,\n",
    "    coloraxis_showscale = False,\n",
    "    showlegend = False,\n",
    "    width=750,\n",
    "    height=500,\n",
    ")\n",
    "\n",
    "fig.show()"
   ]
  }
 ],
 "metadata": {
  "kernelspec": {
   "display_name": "Python 3",
   "language": "python",
   "name": "python3"
  },
  "language_info": {
   "codemirror_mode": {
    "name": "ipython",
    "version": 3
   },
   "file_extension": ".py",
   "mimetype": "text/x-python",
   "name": "python",
   "nbconvert_exporter": "python",
   "pygments_lexer": "ipython3",
   "version": "3.11.1"
  },
  "orig_nbformat": 4
 },
 "nbformat": 4,
 "nbformat_minor": 2
}
